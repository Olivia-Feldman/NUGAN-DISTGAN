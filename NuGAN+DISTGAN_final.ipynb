{
  "nbformat": 4,
  "nbformat_minor": 0,
  "metadata": {
    "colab": {
      "name": "DIST_GAN.ipynb",
      "provenance": [],
      "collapsed_sections": [],
      "toc_visible": true,
      "machine_shape": "hm",
      "include_colab_link": true
    },
    "kernelspec": {
      "name": "python3",
      "display_name": "Python 3"
    },
    "language_info": {
      "name": "python"
    },
    "accelerator": "GPU",
    "widgets": {
      "application/vnd.jupyter.widget-state+json": {
        "68e197ec70564015a21e476c66926983": {
          "model_module": "@jupyter-widgets/controls",
          "model_name": "HBoxModel",
          "state": {
            "_view_name": "HBoxView",
            "_dom_classes": [],
            "_model_name": "HBoxModel",
            "_view_module": "@jupyter-widgets/controls",
            "_model_module_version": "1.5.0",
            "_view_count": null,
            "_view_module_version": "1.5.0",
            "box_style": "",
            "layout": "IPY_MODEL_43a851d4ae404df5a1cb13b4892947fe",
            "_model_module": "@jupyter-widgets/controls",
            "children": [
              "IPY_MODEL_4e9bdad4b33f424094dd5a7caa5a27c3",
              "IPY_MODEL_3e7fe7d735744238b5feea809da56c84"
            ]
          }
        },
        "43a851d4ae404df5a1cb13b4892947fe": {
          "model_module": "@jupyter-widgets/base",
          "model_name": "LayoutModel",
          "state": {
            "_view_name": "LayoutView",
            "grid_template_rows": null,
            "right": null,
            "justify_content": null,
            "_view_module": "@jupyter-widgets/base",
            "overflow": null,
            "_model_module_version": "1.2.0",
            "_view_count": null,
            "flex_flow": null,
            "width": null,
            "min_width": null,
            "border": null,
            "align_items": null,
            "bottom": null,
            "_model_module": "@jupyter-widgets/base",
            "top": null,
            "grid_column": null,
            "overflow_y": null,
            "overflow_x": null,
            "grid_auto_flow": null,
            "grid_area": null,
            "grid_template_columns": null,
            "flex": null,
            "_model_name": "LayoutModel",
            "justify_items": null,
            "grid_row": null,
            "max_height": null,
            "align_content": null,
            "visibility": null,
            "align_self": null,
            "height": null,
            "min_height": null,
            "padding": null,
            "grid_auto_rows": null,
            "grid_gap": null,
            "max_width": null,
            "order": null,
            "_view_module_version": "1.2.0",
            "grid_template_areas": null,
            "object_position": null,
            "object_fit": null,
            "grid_auto_columns": null,
            "margin": null,
            "display": null,
            "left": null
          }
        },
        "4e9bdad4b33f424094dd5a7caa5a27c3": {
          "model_module": "@jupyter-widgets/controls",
          "model_name": "FloatProgressModel",
          "state": {
            "_view_name": "ProgressView",
            "style": "IPY_MODEL_b551a76b125b4d629722f3f6ffc730e1",
            "_dom_classes": [],
            "description": "",
            "_model_name": "FloatProgressModel",
            "bar_style": "success",
            "max": 9912422,
            "_view_module": "@jupyter-widgets/controls",
            "_model_module_version": "1.5.0",
            "value": 9912422,
            "_view_count": null,
            "_view_module_version": "1.5.0",
            "orientation": "horizontal",
            "min": 0,
            "description_tooltip": null,
            "_model_module": "@jupyter-widgets/controls",
            "layout": "IPY_MODEL_6684e91ee406461cb88f5643fbcda430"
          }
        },
        "3e7fe7d735744238b5feea809da56c84": {
          "model_module": "@jupyter-widgets/controls",
          "model_name": "HTMLModel",
          "state": {
            "_view_name": "HTMLView",
            "style": "IPY_MODEL_8a5cf2b09838434c93ab99c6c8f12cd6",
            "_dom_classes": [],
            "description": "",
            "_model_name": "HTMLModel",
            "placeholder": "​",
            "_view_module": "@jupyter-widgets/controls",
            "_model_module_version": "1.5.0",
            "value": " 9913344/? [04:13&lt;00:00, 39088.75it/s]",
            "_view_count": null,
            "_view_module_version": "1.5.0",
            "description_tooltip": null,
            "_model_module": "@jupyter-widgets/controls",
            "layout": "IPY_MODEL_306ad6cc76e54e9b8afe2fc0a99a1f57"
          }
        },
        "b551a76b125b4d629722f3f6ffc730e1": {
          "model_module": "@jupyter-widgets/controls",
          "model_name": "ProgressStyleModel",
          "state": {
            "_view_name": "StyleView",
            "_model_name": "ProgressStyleModel",
            "description_width": "initial",
            "_view_module": "@jupyter-widgets/base",
            "_model_module_version": "1.5.0",
            "_view_count": null,
            "_view_module_version": "1.2.0",
            "bar_color": null,
            "_model_module": "@jupyter-widgets/controls"
          }
        },
        "6684e91ee406461cb88f5643fbcda430": {
          "model_module": "@jupyter-widgets/base",
          "model_name": "LayoutModel",
          "state": {
            "_view_name": "LayoutView",
            "grid_template_rows": null,
            "right": null,
            "justify_content": null,
            "_view_module": "@jupyter-widgets/base",
            "overflow": null,
            "_model_module_version": "1.2.0",
            "_view_count": null,
            "flex_flow": null,
            "width": null,
            "min_width": null,
            "border": null,
            "align_items": null,
            "bottom": null,
            "_model_module": "@jupyter-widgets/base",
            "top": null,
            "grid_column": null,
            "overflow_y": null,
            "overflow_x": null,
            "grid_auto_flow": null,
            "grid_area": null,
            "grid_template_columns": null,
            "flex": null,
            "_model_name": "LayoutModel",
            "justify_items": null,
            "grid_row": null,
            "max_height": null,
            "align_content": null,
            "visibility": null,
            "align_self": null,
            "height": null,
            "min_height": null,
            "padding": null,
            "grid_auto_rows": null,
            "grid_gap": null,
            "max_width": null,
            "order": null,
            "_view_module_version": "1.2.0",
            "grid_template_areas": null,
            "object_position": null,
            "object_fit": null,
            "grid_auto_columns": null,
            "margin": null,
            "display": null,
            "left": null
          }
        },
        "8a5cf2b09838434c93ab99c6c8f12cd6": {
          "model_module": "@jupyter-widgets/controls",
          "model_name": "DescriptionStyleModel",
          "state": {
            "_view_name": "StyleView",
            "_model_name": "DescriptionStyleModel",
            "description_width": "",
            "_view_module": "@jupyter-widgets/base",
            "_model_module_version": "1.5.0",
            "_view_count": null,
            "_view_module_version": "1.2.0",
            "_model_module": "@jupyter-widgets/controls"
          }
        },
        "306ad6cc76e54e9b8afe2fc0a99a1f57": {
          "model_module": "@jupyter-widgets/base",
          "model_name": "LayoutModel",
          "state": {
            "_view_name": "LayoutView",
            "grid_template_rows": null,
            "right": null,
            "justify_content": null,
            "_view_module": "@jupyter-widgets/base",
            "overflow": null,
            "_model_module_version": "1.2.0",
            "_view_count": null,
            "flex_flow": null,
            "width": null,
            "min_width": null,
            "border": null,
            "align_items": null,
            "bottom": null,
            "_model_module": "@jupyter-widgets/base",
            "top": null,
            "grid_column": null,
            "overflow_y": null,
            "overflow_x": null,
            "grid_auto_flow": null,
            "grid_area": null,
            "grid_template_columns": null,
            "flex": null,
            "_model_name": "LayoutModel",
            "justify_items": null,
            "grid_row": null,
            "max_height": null,
            "align_content": null,
            "visibility": null,
            "align_self": null,
            "height": null,
            "min_height": null,
            "padding": null,
            "grid_auto_rows": null,
            "grid_gap": null,
            "max_width": null,
            "order": null,
            "_view_module_version": "1.2.0",
            "grid_template_areas": null,
            "object_position": null,
            "object_fit": null,
            "grid_auto_columns": null,
            "margin": null,
            "display": null,
            "left": null
          }
        },
        "6e92ce5e779347e6952576d960d4c0c3": {
          "model_module": "@jupyter-widgets/controls",
          "model_name": "HBoxModel",
          "state": {
            "_view_name": "HBoxView",
            "_dom_classes": [],
            "_model_name": "HBoxModel",
            "_view_module": "@jupyter-widgets/controls",
            "_model_module_version": "1.5.0",
            "_view_count": null,
            "_view_module_version": "1.5.0",
            "box_style": "",
            "layout": "IPY_MODEL_9a0decc3aec84ed29dc1897067b07192",
            "_model_module": "@jupyter-widgets/controls",
            "children": [
              "IPY_MODEL_7d8f7570afca48798ed9b52181e9dda5",
              "IPY_MODEL_3fc46edaf4b14e48aa423cac461cfec1"
            ]
          }
        },
        "9a0decc3aec84ed29dc1897067b07192": {
          "model_module": "@jupyter-widgets/base",
          "model_name": "LayoutModel",
          "state": {
            "_view_name": "LayoutView",
            "grid_template_rows": null,
            "right": null,
            "justify_content": null,
            "_view_module": "@jupyter-widgets/base",
            "overflow": null,
            "_model_module_version": "1.2.0",
            "_view_count": null,
            "flex_flow": null,
            "width": null,
            "min_width": null,
            "border": null,
            "align_items": null,
            "bottom": null,
            "_model_module": "@jupyter-widgets/base",
            "top": null,
            "grid_column": null,
            "overflow_y": null,
            "overflow_x": null,
            "grid_auto_flow": null,
            "grid_area": null,
            "grid_template_columns": null,
            "flex": null,
            "_model_name": "LayoutModel",
            "justify_items": null,
            "grid_row": null,
            "max_height": null,
            "align_content": null,
            "visibility": null,
            "align_self": null,
            "height": null,
            "min_height": null,
            "padding": null,
            "grid_auto_rows": null,
            "grid_gap": null,
            "max_width": null,
            "order": null,
            "_view_module_version": "1.2.0",
            "grid_template_areas": null,
            "object_position": null,
            "object_fit": null,
            "grid_auto_columns": null,
            "margin": null,
            "display": null,
            "left": null
          }
        },
        "7d8f7570afca48798ed9b52181e9dda5": {
          "model_module": "@jupyter-widgets/controls",
          "model_name": "FloatProgressModel",
          "state": {
            "_view_name": "ProgressView",
            "style": "IPY_MODEL_837910b8bbc04c449abd1c1450e9aab9",
            "_dom_classes": [],
            "description": "",
            "_model_name": "FloatProgressModel",
            "bar_style": "success",
            "max": 28881,
            "_view_module": "@jupyter-widgets/controls",
            "_model_module_version": "1.5.0",
            "value": 28881,
            "_view_count": null,
            "_view_module_version": "1.5.0",
            "orientation": "horizontal",
            "min": 0,
            "description_tooltip": null,
            "_model_module": "@jupyter-widgets/controls",
            "layout": "IPY_MODEL_4a95cbdb75ab41ffb440e600405a153f"
          }
        },
        "3fc46edaf4b14e48aa423cac461cfec1": {
          "model_module": "@jupyter-widgets/controls",
          "model_name": "HTMLModel",
          "state": {
            "_view_name": "HTMLView",
            "style": "IPY_MODEL_c17672f8834c4324b7b7079a272ec26d",
            "_dom_classes": [],
            "description": "",
            "_model_name": "HTMLModel",
            "placeholder": "​",
            "_view_module": "@jupyter-widgets/controls",
            "_model_module_version": "1.5.0",
            "value": " 29696/? [00:00&lt;00:00, 221003.13it/s]",
            "_view_count": null,
            "_view_module_version": "1.5.0",
            "description_tooltip": null,
            "_model_module": "@jupyter-widgets/controls",
            "layout": "IPY_MODEL_cb64acf712a845548f9c91153e2c6c33"
          }
        },
        "837910b8bbc04c449abd1c1450e9aab9": {
          "model_module": "@jupyter-widgets/controls",
          "model_name": "ProgressStyleModel",
          "state": {
            "_view_name": "StyleView",
            "_model_name": "ProgressStyleModel",
            "description_width": "initial",
            "_view_module": "@jupyter-widgets/base",
            "_model_module_version": "1.5.0",
            "_view_count": null,
            "_view_module_version": "1.2.0",
            "bar_color": null,
            "_model_module": "@jupyter-widgets/controls"
          }
        },
        "4a95cbdb75ab41ffb440e600405a153f": {
          "model_module": "@jupyter-widgets/base",
          "model_name": "LayoutModel",
          "state": {
            "_view_name": "LayoutView",
            "grid_template_rows": null,
            "right": null,
            "justify_content": null,
            "_view_module": "@jupyter-widgets/base",
            "overflow": null,
            "_model_module_version": "1.2.0",
            "_view_count": null,
            "flex_flow": null,
            "width": null,
            "min_width": null,
            "border": null,
            "align_items": null,
            "bottom": null,
            "_model_module": "@jupyter-widgets/base",
            "top": null,
            "grid_column": null,
            "overflow_y": null,
            "overflow_x": null,
            "grid_auto_flow": null,
            "grid_area": null,
            "grid_template_columns": null,
            "flex": null,
            "_model_name": "LayoutModel",
            "justify_items": null,
            "grid_row": null,
            "max_height": null,
            "align_content": null,
            "visibility": null,
            "align_self": null,
            "height": null,
            "min_height": null,
            "padding": null,
            "grid_auto_rows": null,
            "grid_gap": null,
            "max_width": null,
            "order": null,
            "_view_module_version": "1.2.0",
            "grid_template_areas": null,
            "object_position": null,
            "object_fit": null,
            "grid_auto_columns": null,
            "margin": null,
            "display": null,
            "left": null
          }
        },
        "c17672f8834c4324b7b7079a272ec26d": {
          "model_module": "@jupyter-widgets/controls",
          "model_name": "DescriptionStyleModel",
          "state": {
            "_view_name": "StyleView",
            "_model_name": "DescriptionStyleModel",
            "description_width": "",
            "_view_module": "@jupyter-widgets/base",
            "_model_module_version": "1.5.0",
            "_view_count": null,
            "_view_module_version": "1.2.0",
            "_model_module": "@jupyter-widgets/controls"
          }
        },
        "cb64acf712a845548f9c91153e2c6c33": {
          "model_module": "@jupyter-widgets/base",
          "model_name": "LayoutModel",
          "state": {
            "_view_name": "LayoutView",
            "grid_template_rows": null,
            "right": null,
            "justify_content": null,
            "_view_module": "@jupyter-widgets/base",
            "overflow": null,
            "_model_module_version": "1.2.0",
            "_view_count": null,
            "flex_flow": null,
            "width": null,
            "min_width": null,
            "border": null,
            "align_items": null,
            "bottom": null,
            "_model_module": "@jupyter-widgets/base",
            "top": null,
            "grid_column": null,
            "overflow_y": null,
            "overflow_x": null,
            "grid_auto_flow": null,
            "grid_area": null,
            "grid_template_columns": null,
            "flex": null,
            "_model_name": "LayoutModel",
            "justify_items": null,
            "grid_row": null,
            "max_height": null,
            "align_content": null,
            "visibility": null,
            "align_self": null,
            "height": null,
            "min_height": null,
            "padding": null,
            "grid_auto_rows": null,
            "grid_gap": null,
            "max_width": null,
            "order": null,
            "_view_module_version": "1.2.0",
            "grid_template_areas": null,
            "object_position": null,
            "object_fit": null,
            "grid_auto_columns": null,
            "margin": null,
            "display": null,
            "left": null
          }
        },
        "d25c5aa1b987474a885e68632c0a08b2": {
          "model_module": "@jupyter-widgets/controls",
          "model_name": "HBoxModel",
          "state": {
            "_view_name": "HBoxView",
            "_dom_classes": [],
            "_model_name": "HBoxModel",
            "_view_module": "@jupyter-widgets/controls",
            "_model_module_version": "1.5.0",
            "_view_count": null,
            "_view_module_version": "1.5.0",
            "box_style": "",
            "layout": "IPY_MODEL_cb6b461a3adb45c2ad5765f105eaac1d",
            "_model_module": "@jupyter-widgets/controls",
            "children": [
              "IPY_MODEL_690e6f5aa23b450193c6f1a3a4f8f1b4",
              "IPY_MODEL_45f79cc330c349398473432e284ec1d1"
            ]
          }
        },
        "cb6b461a3adb45c2ad5765f105eaac1d": {
          "model_module": "@jupyter-widgets/base",
          "model_name": "LayoutModel",
          "state": {
            "_view_name": "LayoutView",
            "grid_template_rows": null,
            "right": null,
            "justify_content": null,
            "_view_module": "@jupyter-widgets/base",
            "overflow": null,
            "_model_module_version": "1.2.0",
            "_view_count": null,
            "flex_flow": null,
            "width": null,
            "min_width": null,
            "border": null,
            "align_items": null,
            "bottom": null,
            "_model_module": "@jupyter-widgets/base",
            "top": null,
            "grid_column": null,
            "overflow_y": null,
            "overflow_x": null,
            "grid_auto_flow": null,
            "grid_area": null,
            "grid_template_columns": null,
            "flex": null,
            "_model_name": "LayoutModel",
            "justify_items": null,
            "grid_row": null,
            "max_height": null,
            "align_content": null,
            "visibility": null,
            "align_self": null,
            "height": null,
            "min_height": null,
            "padding": null,
            "grid_auto_rows": null,
            "grid_gap": null,
            "max_width": null,
            "order": null,
            "_view_module_version": "1.2.0",
            "grid_template_areas": null,
            "object_position": null,
            "object_fit": null,
            "grid_auto_columns": null,
            "margin": null,
            "display": null,
            "left": null
          }
        },
        "690e6f5aa23b450193c6f1a3a4f8f1b4": {
          "model_module": "@jupyter-widgets/controls",
          "model_name": "FloatProgressModel",
          "state": {
            "_view_name": "ProgressView",
            "style": "IPY_MODEL_07a453c3e75f40ddb18e1f92b6deb25f",
            "_dom_classes": [],
            "description": "",
            "_model_name": "FloatProgressModel",
            "bar_style": "success",
            "max": 1648877,
            "_view_module": "@jupyter-widgets/controls",
            "_model_module_version": "1.5.0",
            "value": 1648877,
            "_view_count": null,
            "_view_module_version": "1.5.0",
            "orientation": "horizontal",
            "min": 0,
            "description_tooltip": null,
            "_model_module": "@jupyter-widgets/controls",
            "layout": "IPY_MODEL_38053ad671e445ab8a2058272c506e08"
          }
        },
        "45f79cc330c349398473432e284ec1d1": {
          "model_module": "@jupyter-widgets/controls",
          "model_name": "HTMLModel",
          "state": {
            "_view_name": "HTMLView",
            "style": "IPY_MODEL_976b17bb98c949b39503d8fc4a86aa61",
            "_dom_classes": [],
            "description": "",
            "_model_name": "HTMLModel",
            "placeholder": "​",
            "_view_module": "@jupyter-widgets/controls",
            "_model_module_version": "1.5.0",
            "value": " 1649664/? [00:27&lt;00:00, 59994.82it/s]",
            "_view_count": null,
            "_view_module_version": "1.5.0",
            "description_tooltip": null,
            "_model_module": "@jupyter-widgets/controls",
            "layout": "IPY_MODEL_c98b0140e8ac42ba94e30ba891c88ee1"
          }
        },
        "07a453c3e75f40ddb18e1f92b6deb25f": {
          "model_module": "@jupyter-widgets/controls",
          "model_name": "ProgressStyleModel",
          "state": {
            "_view_name": "StyleView",
            "_model_name": "ProgressStyleModel",
            "description_width": "initial",
            "_view_module": "@jupyter-widgets/base",
            "_model_module_version": "1.5.0",
            "_view_count": null,
            "_view_module_version": "1.2.0",
            "bar_color": null,
            "_model_module": "@jupyter-widgets/controls"
          }
        },
        "38053ad671e445ab8a2058272c506e08": {
          "model_module": "@jupyter-widgets/base",
          "model_name": "LayoutModel",
          "state": {
            "_view_name": "LayoutView",
            "grid_template_rows": null,
            "right": null,
            "justify_content": null,
            "_view_module": "@jupyter-widgets/base",
            "overflow": null,
            "_model_module_version": "1.2.0",
            "_view_count": null,
            "flex_flow": null,
            "width": null,
            "min_width": null,
            "border": null,
            "align_items": null,
            "bottom": null,
            "_model_module": "@jupyter-widgets/base",
            "top": null,
            "grid_column": null,
            "overflow_y": null,
            "overflow_x": null,
            "grid_auto_flow": null,
            "grid_area": null,
            "grid_template_columns": null,
            "flex": null,
            "_model_name": "LayoutModel",
            "justify_items": null,
            "grid_row": null,
            "max_height": null,
            "align_content": null,
            "visibility": null,
            "align_self": null,
            "height": null,
            "min_height": null,
            "padding": null,
            "grid_auto_rows": null,
            "grid_gap": null,
            "max_width": null,
            "order": null,
            "_view_module_version": "1.2.0",
            "grid_template_areas": null,
            "object_position": null,
            "object_fit": null,
            "grid_auto_columns": null,
            "margin": null,
            "display": null,
            "left": null
          }
        },
        "976b17bb98c949b39503d8fc4a86aa61": {
          "model_module": "@jupyter-widgets/controls",
          "model_name": "DescriptionStyleModel",
          "state": {
            "_view_name": "StyleView",
            "_model_name": "DescriptionStyleModel",
            "description_width": "",
            "_view_module": "@jupyter-widgets/base",
            "_model_module_version": "1.5.0",
            "_view_count": null,
            "_view_module_version": "1.2.0",
            "_model_module": "@jupyter-widgets/controls"
          }
        },
        "c98b0140e8ac42ba94e30ba891c88ee1": {
          "model_module": "@jupyter-widgets/base",
          "model_name": "LayoutModel",
          "state": {
            "_view_name": "LayoutView",
            "grid_template_rows": null,
            "right": null,
            "justify_content": null,
            "_view_module": "@jupyter-widgets/base",
            "overflow": null,
            "_model_module_version": "1.2.0",
            "_view_count": null,
            "flex_flow": null,
            "width": null,
            "min_width": null,
            "border": null,
            "align_items": null,
            "bottom": null,
            "_model_module": "@jupyter-widgets/base",
            "top": null,
            "grid_column": null,
            "overflow_y": null,
            "overflow_x": null,
            "grid_auto_flow": null,
            "grid_area": null,
            "grid_template_columns": null,
            "flex": null,
            "_model_name": "LayoutModel",
            "justify_items": null,
            "grid_row": null,
            "max_height": null,
            "align_content": null,
            "visibility": null,
            "align_self": null,
            "height": null,
            "min_height": null,
            "padding": null,
            "grid_auto_rows": null,
            "grid_gap": null,
            "max_width": null,
            "order": null,
            "_view_module_version": "1.2.0",
            "grid_template_areas": null,
            "object_position": null,
            "object_fit": null,
            "grid_auto_columns": null,
            "margin": null,
            "display": null,
            "left": null
          }
        },
        "30d1c6decd284ff89ca292c37d6af051": {
          "model_module": "@jupyter-widgets/controls",
          "model_name": "HBoxModel",
          "state": {
            "_view_name": "HBoxView",
            "_dom_classes": [],
            "_model_name": "HBoxModel",
            "_view_module": "@jupyter-widgets/controls",
            "_model_module_version": "1.5.0",
            "_view_count": null,
            "_view_module_version": "1.5.0",
            "box_style": "",
            "layout": "IPY_MODEL_5100a490740440eca114e8d3f4a9373c",
            "_model_module": "@jupyter-widgets/controls",
            "children": [
              "IPY_MODEL_eeb7cb4e2a73493e92193232c3017e20",
              "IPY_MODEL_29df59a5b87641c28b8c110aa3f6b027"
            ]
          }
        },
        "5100a490740440eca114e8d3f4a9373c": {
          "model_module": "@jupyter-widgets/base",
          "model_name": "LayoutModel",
          "state": {
            "_view_name": "LayoutView",
            "grid_template_rows": null,
            "right": null,
            "justify_content": null,
            "_view_module": "@jupyter-widgets/base",
            "overflow": null,
            "_model_module_version": "1.2.0",
            "_view_count": null,
            "flex_flow": null,
            "width": null,
            "min_width": null,
            "border": null,
            "align_items": null,
            "bottom": null,
            "_model_module": "@jupyter-widgets/base",
            "top": null,
            "grid_column": null,
            "overflow_y": null,
            "overflow_x": null,
            "grid_auto_flow": null,
            "grid_area": null,
            "grid_template_columns": null,
            "flex": null,
            "_model_name": "LayoutModel",
            "justify_items": null,
            "grid_row": null,
            "max_height": null,
            "align_content": null,
            "visibility": null,
            "align_self": null,
            "height": null,
            "min_height": null,
            "padding": null,
            "grid_auto_rows": null,
            "grid_gap": null,
            "max_width": null,
            "order": null,
            "_view_module_version": "1.2.0",
            "grid_template_areas": null,
            "object_position": null,
            "object_fit": null,
            "grid_auto_columns": null,
            "margin": null,
            "display": null,
            "left": null
          }
        },
        "eeb7cb4e2a73493e92193232c3017e20": {
          "model_module": "@jupyter-widgets/controls",
          "model_name": "FloatProgressModel",
          "state": {
            "_view_name": "ProgressView",
            "style": "IPY_MODEL_2a9c658784f24ed485b915a2dab45873",
            "_dom_classes": [],
            "description": "",
            "_model_name": "FloatProgressModel",
            "bar_style": "success",
            "max": 4542,
            "_view_module": "@jupyter-widgets/controls",
            "_model_module_version": "1.5.0",
            "value": 4542,
            "_view_count": null,
            "_view_module_version": "1.5.0",
            "orientation": "horizontal",
            "min": 0,
            "description_tooltip": null,
            "_model_module": "@jupyter-widgets/controls",
            "layout": "IPY_MODEL_9001916b759f44248129f893c284854f"
          }
        },
        "29df59a5b87641c28b8c110aa3f6b027": {
          "model_module": "@jupyter-widgets/controls",
          "model_name": "HTMLModel",
          "state": {
            "_view_name": "HTMLView",
            "style": "IPY_MODEL_2d02462af84b48c091ebea84e59f3674",
            "_dom_classes": [],
            "description": "",
            "_model_name": "HTMLModel",
            "placeholder": "​",
            "_view_module": "@jupyter-widgets/controls",
            "_model_module_version": "1.5.0",
            "value": " 5120/? [00:00&lt;00:00, 23094.30it/s]",
            "_view_count": null,
            "_view_module_version": "1.5.0",
            "description_tooltip": null,
            "_model_module": "@jupyter-widgets/controls",
            "layout": "IPY_MODEL_3594996ac58248668f7135b9cf81c451"
          }
        },
        "2a9c658784f24ed485b915a2dab45873": {
          "model_module": "@jupyter-widgets/controls",
          "model_name": "ProgressStyleModel",
          "state": {
            "_view_name": "StyleView",
            "_model_name": "ProgressStyleModel",
            "description_width": "initial",
            "_view_module": "@jupyter-widgets/base",
            "_model_module_version": "1.5.0",
            "_view_count": null,
            "_view_module_version": "1.2.0",
            "bar_color": null,
            "_model_module": "@jupyter-widgets/controls"
          }
        },
        "9001916b759f44248129f893c284854f": {
          "model_module": "@jupyter-widgets/base",
          "model_name": "LayoutModel",
          "state": {
            "_view_name": "LayoutView",
            "grid_template_rows": null,
            "right": null,
            "justify_content": null,
            "_view_module": "@jupyter-widgets/base",
            "overflow": null,
            "_model_module_version": "1.2.0",
            "_view_count": null,
            "flex_flow": null,
            "width": null,
            "min_width": null,
            "border": null,
            "align_items": null,
            "bottom": null,
            "_model_module": "@jupyter-widgets/base",
            "top": null,
            "grid_column": null,
            "overflow_y": null,
            "overflow_x": null,
            "grid_auto_flow": null,
            "grid_area": null,
            "grid_template_columns": null,
            "flex": null,
            "_model_name": "LayoutModel",
            "justify_items": null,
            "grid_row": null,
            "max_height": null,
            "align_content": null,
            "visibility": null,
            "align_self": null,
            "height": null,
            "min_height": null,
            "padding": null,
            "grid_auto_rows": null,
            "grid_gap": null,
            "max_width": null,
            "order": null,
            "_view_module_version": "1.2.0",
            "grid_template_areas": null,
            "object_position": null,
            "object_fit": null,
            "grid_auto_columns": null,
            "margin": null,
            "display": null,
            "left": null
          }
        },
        "2d02462af84b48c091ebea84e59f3674": {
          "model_module": "@jupyter-widgets/controls",
          "model_name": "DescriptionStyleModel",
          "state": {
            "_view_name": "StyleView",
            "_model_name": "DescriptionStyleModel",
            "description_width": "",
            "_view_module": "@jupyter-widgets/base",
            "_model_module_version": "1.5.0",
            "_view_count": null,
            "_view_module_version": "1.2.0",
            "_model_module": "@jupyter-widgets/controls"
          }
        },
        "3594996ac58248668f7135b9cf81c451": {
          "model_module": "@jupyter-widgets/base",
          "model_name": "LayoutModel",
          "state": {
            "_view_name": "LayoutView",
            "grid_template_rows": null,
            "right": null,
            "justify_content": null,
            "_view_module": "@jupyter-widgets/base",
            "overflow": null,
            "_model_module_version": "1.2.0",
            "_view_count": null,
            "flex_flow": null,
            "width": null,
            "min_width": null,
            "border": null,
            "align_items": null,
            "bottom": null,
            "_model_module": "@jupyter-widgets/base",
            "top": null,
            "grid_column": null,
            "overflow_y": null,
            "overflow_x": null,
            "grid_auto_flow": null,
            "grid_area": null,
            "grid_template_columns": null,
            "flex": null,
            "_model_name": "LayoutModel",
            "justify_items": null,
            "grid_row": null,
            "max_height": null,
            "align_content": null,
            "visibility": null,
            "align_self": null,
            "height": null,
            "min_height": null,
            "padding": null,
            "grid_auto_rows": null,
            "grid_gap": null,
            "max_width": null,
            "order": null,
            "_view_module_version": "1.2.0",
            "grid_template_areas": null,
            "object_position": null,
            "object_fit": null,
            "grid_auto_columns": null,
            "margin": null,
            "display": null,
            "left": null
          }
        }
      }
    }
  },
  "cells": [
    {
      "cell_type": "markdown",
      "metadata": {
        "id": "view-in-github",
        "colab_type": "text"
      },
      "source": [
        "<a href=\"https://colab.research.google.com/github/Olivia-Feldman/NUGAN-DISTGAN/blob/main/NuGAN%2BDISTGAN_final.ipynb\" target=\"_parent\"><img src=\"https://colab.research.google.com/assets/colab-badge.svg\" alt=\"Open In Colab\"/></a>"
      ]
    },
    {
      "cell_type": "markdown",
      "metadata": {
        "id": "N_uA3jNSajwT"
      },
      "source": [
        "# Set up the environment"
      ]
    },
    {
      "cell_type": "code",
      "metadata": {
        "id": "NSigDUfUA0On"
      },
      "source": [
        "import torch\n",
        "import torch.nn as nn\n",
        "import torch.nn.functional as F\n",
        "import torch.optim as optim\n",
        "from torchvision import datasets, transforms\n",
        "from torch.autograd import Variable\n",
        "import numpy as np\n",
        "import time\n",
        "import matplotlib.pyplot as plt\n",
        "from math import floor"
      ],
      "execution_count": null,
      "outputs": []
    },
    {
      "cell_type": "markdown",
      "metadata": {
        "id": "8AJdH24FagDa"
      },
      "source": [
        "# Download the MNIST dataset"
      ]
    },
    {
      "cell_type": "code",
      "metadata": {
        "id": "Ch8zqg8bcneW",
        "colab": {
          "base_uri": "https://localhost:8080/",
          "height": 573,
          "referenced_widgets": [
            "68e197ec70564015a21e476c66926983",
            "43a851d4ae404df5a1cb13b4892947fe",
            "4e9bdad4b33f424094dd5a7caa5a27c3",
            "3e7fe7d735744238b5feea809da56c84",
            "b551a76b125b4d629722f3f6ffc730e1",
            "6684e91ee406461cb88f5643fbcda430",
            "8a5cf2b09838434c93ab99c6c8f12cd6",
            "306ad6cc76e54e9b8afe2fc0a99a1f57",
            "6e92ce5e779347e6952576d960d4c0c3",
            "9a0decc3aec84ed29dc1897067b07192",
            "7d8f7570afca48798ed9b52181e9dda5",
            "3fc46edaf4b14e48aa423cac461cfec1",
            "837910b8bbc04c449abd1c1450e9aab9",
            "4a95cbdb75ab41ffb440e600405a153f",
            "c17672f8834c4324b7b7079a272ec26d",
            "cb64acf712a845548f9c91153e2c6c33",
            "d25c5aa1b987474a885e68632c0a08b2",
            "cb6b461a3adb45c2ad5765f105eaac1d",
            "690e6f5aa23b450193c6f1a3a4f8f1b4",
            "45f79cc330c349398473432e284ec1d1",
            "07a453c3e75f40ddb18e1f92b6deb25f",
            "38053ad671e445ab8a2058272c506e08",
            "976b17bb98c949b39503d8fc4a86aa61",
            "c98b0140e8ac42ba94e30ba891c88ee1",
            "30d1c6decd284ff89ca292c37d6af051",
            "5100a490740440eca114e8d3f4a9373c",
            "eeb7cb4e2a73493e92193232c3017e20",
            "29df59a5b87641c28b8c110aa3f6b027",
            "2a9c658784f24ed485b915a2dab45873",
            "9001916b759f44248129f893c284854f",
            "2d02462af84b48c091ebea84e59f3674",
            "3594996ac58248668f7135b9cf81c451"
          ]
        },
        "outputId": "473aa3b9-08a5-4b9d-8073-2daf4c102574"
      },
      "source": [
        "transform = transforms.Compose([\n",
        "    transforms.ToTensor(),\n",
        "    transforms.Normalize(mean=(0.5), std=(0.5))])\n",
        "\n",
        "train_dataset = datasets.MNIST(root='./data', train=True, transform=transform, download=True)\n",
        "test_dataset = datasets.MNIST(root='./data', train=False, transform=transform, download=False)\n",
        "\n",
        "train_loader = torch.utils.data.DataLoader(dataset=train_dataset, batch_size=128, shuffle=True)\n",
        "test_loader = torch.utils.data.DataLoader(dataset=test_dataset, batch_size=128, shuffle=False)"
      ],
      "execution_count": null,
      "outputs": [
        {
          "output_type": "stream",
          "text": [
            "Downloading http://yann.lecun.com/exdb/mnist/train-images-idx3-ubyte.gz\n",
            "Downloading http://yann.lecun.com/exdb/mnist/train-images-idx3-ubyte.gz to ./data/MNIST/raw/train-images-idx3-ubyte.gz\n"
          ],
          "name": "stdout"
        },
        {
          "output_type": "display_data",
          "data": {
            "application/vnd.jupyter.widget-view+json": {
              "model_id": "68e197ec70564015a21e476c66926983",
              "version_minor": 0,
              "version_major": 2
            },
            "text/plain": [
              "HBox(children=(FloatProgress(value=0.0, max=9912422.0), HTML(value='')))"
            ]
          },
          "metadata": {
            "tags": []
          }
        },
        {
          "output_type": "stream",
          "text": [
            "\n",
            "Extracting ./data/MNIST/raw/train-images-idx3-ubyte.gz to ./data/MNIST/raw\n",
            "\n",
            "Downloading http://yann.lecun.com/exdb/mnist/train-labels-idx1-ubyte.gz\n",
            "Downloading http://yann.lecun.com/exdb/mnist/train-labels-idx1-ubyte.gz to ./data/MNIST/raw/train-labels-idx1-ubyte.gz\n"
          ],
          "name": "stdout"
        },
        {
          "output_type": "display_data",
          "data": {
            "application/vnd.jupyter.widget-view+json": {
              "model_id": "6e92ce5e779347e6952576d960d4c0c3",
              "version_minor": 0,
              "version_major": 2
            },
            "text/plain": [
              "HBox(children=(FloatProgress(value=0.0, max=28881.0), HTML(value='')))"
            ]
          },
          "metadata": {
            "tags": []
          }
        },
        {
          "output_type": "stream",
          "text": [
            "\n",
            "Extracting ./data/MNIST/raw/train-labels-idx1-ubyte.gz to ./data/MNIST/raw\n",
            "\n",
            "Downloading http://yann.lecun.com/exdb/mnist/t10k-images-idx3-ubyte.gz\n",
            "Downloading http://yann.lecun.com/exdb/mnist/t10k-images-idx3-ubyte.gz to ./data/MNIST/raw/t10k-images-idx3-ubyte.gz\n"
          ],
          "name": "stdout"
        },
        {
          "output_type": "display_data",
          "data": {
            "application/vnd.jupyter.widget-view+json": {
              "model_id": "d25c5aa1b987474a885e68632c0a08b2",
              "version_minor": 0,
              "version_major": 2
            },
            "text/plain": [
              "HBox(children=(FloatProgress(value=0.0, max=1648877.0), HTML(value='')))"
            ]
          },
          "metadata": {
            "tags": []
          }
        },
        {
          "output_type": "stream",
          "text": [
            "\n",
            "Extracting ./data/MNIST/raw/t10k-images-idx3-ubyte.gz to ./data/MNIST/raw\n",
            "\n",
            "Downloading http://yann.lecun.com/exdb/mnist/t10k-labels-idx1-ubyte.gz\n",
            "Downloading http://yann.lecun.com/exdb/mnist/t10k-labels-idx1-ubyte.gz to ./data/MNIST/raw/t10k-labels-idx1-ubyte.gz\n"
          ],
          "name": "stdout"
        },
        {
          "output_type": "display_data",
          "data": {
            "application/vnd.jupyter.widget-view+json": {
              "model_id": "30d1c6decd284ff89ca292c37d6af051",
              "version_minor": 0,
              "version_major": 2
            },
            "text/plain": [
              "HBox(children=(FloatProgress(value=0.0, max=4542.0), HTML(value='')))"
            ]
          },
          "metadata": {
            "tags": []
          }
        },
        {
          "output_type": "stream",
          "text": [
            "\n",
            "Extracting ./data/MNIST/raw/t10k-labels-idx1-ubyte.gz to ./data/MNIST/raw\n",
            "\n",
            "Processing...\n",
            "Done!\n"
          ],
          "name": "stdout"
        },
        {
          "output_type": "stream",
          "text": [
            "/usr/local/lib/python3.7/dist-packages/torchvision/datasets/mnist.py:502: UserWarning: The given NumPy array is not writeable, and PyTorch does not support non-writeable tensors. This means you can write to the underlying (supposedly non-writeable) NumPy array using the tensor. You may want to copy the array to protect its data or make it writeable before converting it to a tensor. This type of warning will be suppressed for the rest of this program. (Triggered internally at  /pytorch/torch/csrc/utils/tensor_numpy.cpp:143.)\n",
            "  return torch.from_numpy(parsed.astype(m[2], copy=False)).view(*s)\n"
          ],
          "name": "stderr"
        }
      ]
    },
    {
      "cell_type": "markdown",
      "metadata": {
        "id": "uJbOYD2iac_D"
      },
      "source": [
        "# Showing shape of train and test dataset"
      ]
    },
    {
      "cell_type": "code",
      "metadata": {
        "id": "Bb-qY4uZcprx",
        "colab": {
          "base_uri": "https://localhost:8080/"
        },
        "outputId": "ff4e5dff-d9ee-43c9-b3e5-95728540a1f6"
      },
      "source": [
        "print(\"Train Shape:\", train_dataset.data.shape, \"Test Shape:\", test_dataset.data.shape)"
      ],
      "execution_count": null,
      "outputs": [
        {
          "output_type": "stream",
          "text": [
            "Train Shape: torch.Size([60000, 28, 28]) Test Shape: torch.Size([10000, 28, 28])\n"
          ],
          "name": "stdout"
        }
      ]
    },
    {
      "cell_type": "markdown",
      "metadata": {
        "id": "dqBlVXesamXc"
      },
      "source": [
        "# CNN for digit classifier"
      ]
    },
    {
      "cell_type": "code",
      "metadata": {
        "id": "fsf-UiaTDP-U"
      },
      "source": [
        "class Net(nn.Module):\n",
        "    def __init__(self, input_dim=1, output_dim=10, input_size=28, base_size=64):\n",
        "        super(Net, self).__init__()\n",
        "        self.input_dim = input_dim\n",
        "        self.output_dim = output_dim\n",
        "        self.input_size = input_size\n",
        "        self.base_size = base_size\n",
        "        # self.conv1 = nn.Conv2d(1, 16, kernel_size=3, stride=1, padding=1)\n",
        "        # self.pool = nn.MaxPool2d(kernel_size=2, stride=2, padding=0)\n",
        "        # self.conv2 = nn.Conv2d(16, 128, kernel_size=3, stride=1, padding=1)\n",
        "        # self.conv3 = nn.Conv2d(128, 128, kernel_size=3, stride=1, padding=1)\n",
        "        # self.fc1 = nn.Linear(128 * 8 * 8, 512)\n",
        "        # self.fc2 = nn.Linear(512, 128)\n",
        "        # self.fc3 = nn.Linear(128, 10)\n",
        "\n",
        "        self.conv = nn.Sequential(\n",
        "            nn.Conv2d(self.input_dim, self.base_size, kernel_size=4, stride=2, padding=1),\n",
        "            nn.LeakyReLU(0.2),\n",
        "            nn.Conv2d(self.base_size, 2*self.base_size, kernel_size=4, stride=2, padding=1),\n",
        "            nn.BatchNorm2d(2*self.base_size),\n",
        "            nn.LeakyReLU(0.2),\n",
        "        )\n",
        "        self.fc = nn.Sequential(\n",
        "            nn.Linear(128 * (self.input_size // 4) * (self.input_size // 4), 1024),\n",
        "            nn.BatchNorm1d(1024),\n",
        "            nn.LeakyReLU(0.2),\n",
        "            nn.Linear(1024, self.output_dim),\n",
        "            nn.ReLU(),\n",
        "        )\n",
        "\n",
        "        #initialize_weights(self)\n",
        "\n",
        "    def forward(self, x):\n",
        "        # x = self.pool(F.relu(self.conv1(x)))\n",
        "        # x = self.pool(F.relu(self.conv2(x)))\n",
        "        # x = F.relu(self.conv3(x))\n",
        "        # x = x.view(-1, 128 * 8 * 8)\n",
        "        # x = F.relu(self.fc1(x))\n",
        "        # x = F.relu(self.fc2(x))\n",
        "        # x = self.fc3(x)\n",
        "        x = self.conv(x)\n",
        "        x = x.view(-1, 2*self.base_size * (self.input_size // 4) * (self.input_size // 4))\n",
        "        x = self.fc(x)\n",
        "        return x"
      ],
      "execution_count": null,
      "outputs": []
    },
    {
      "cell_type": "markdown",
      "metadata": {
        "id": "FHcwTQhTarzL"
      },
      "source": [
        "# Container class for CNN with built-in Train methods"
      ]
    },
    {
      "cell_type": "code",
      "metadata": {
        "id": "p2vpQcvOEb-t"
      },
      "source": [
        "class Classifier():\n",
        "    def __init__(self, epoch=20, batch_size=500):\n",
        "\n",
        "        self.epoch_range = epoch\n",
        "        self.batch_size = batch_size\n",
        "        valid_ratio = 0.3\n",
        "\n",
        "        nb_train = int((1.0 - valid_ratio) * len(train_dataset))\n",
        "        nb_valid =  int(valid_ratio * len(train_dataset))\n",
        "        train_split_dataset, valid_split_dataset = torch.utils.data.dataset.random_split(train_dataset, [nb_train, nb_valid])\n",
        "\n",
        "        self.trainloader = torch.utils.data.DataLoader(train_split_dataset, batch_size=self.batch_size,\n",
        "                                          shuffle=True)\n",
        "        self.validloader = torch.utils.data.DataLoader(valid_split_dataset, batch_size=self.batch_size,\n",
        "                                          shuffle=True)\n",
        "        self.testloader = torch.utils.data.DataLoader(test_dataset, \n",
        "                                        batch_size=self.batch_size, \n",
        "                                        shuffle=False,\n",
        "                                        num_workers=1)\n",
        "\n",
        "        self.net = Net().cuda()\n",
        "\n",
        "        self.criterion = nn.CrossEntropyLoss().cuda()\n",
        "\n",
        "        self.optimizer = optim.Adam(self.net.parameters(), lr=0.00146)\n",
        "\n",
        "        #from google.colab import drive\n",
        "        #drive.mount('/content/drive')\n",
        "        self.PATH = 'cifar10_net_test_3.pth'\n",
        "\n",
        "\n",
        "        # Function to train the CNN classifier\n",
        "#--------------------------------------------------------------------------------------------------------\n",
        "\n",
        "    def train(self):\n",
        "\n",
        "        self.training_loss = []\n",
        "        self.validation_loss = []\n",
        "\n",
        "        start_time = time.time()\n",
        "        best_loss = np.float('inf')\n",
        "        for epoch in range(self.epoch_range): \n",
        "\n",
        "            running_loss = 0.0\n",
        "            for i, data in enumerate(self.trainloader, 0):\n",
        "                # get the inputs; data is a list of [inputs, labels]\n",
        "                # inputs, labels = data[0].to(device), data[1].to(device)\n",
        "                inputs, labels = data[0].cuda(), data[1].cuda()\n",
        "\n",
        "                # zero the parameter gradients\n",
        "                self.optimizer.zero_grad()\n",
        "\n",
        "                # forward + backward + optimize\n",
        "                outputs = self.net(inputs)\n",
        "                loss = self.criterion(outputs, labels)\n",
        "                loss.backward()\n",
        "                self.optimizer.step()\n",
        "\n",
        "                # print statistics\n",
        "                running_loss += loss.item()\n",
        "\n",
        "            epoch_loss = running_loss / (i+1)\n",
        "            self.training_loss.append(epoch_loss)\n",
        "            print(\"Epoch: \", epoch, \" train loss: \", '%.3f' % epoch_loss)\n",
        "\n",
        "            #---------------------------------\n",
        "\n",
        "            with torch.no_grad(): \n",
        "                running_loss = 0.0\n",
        "\n",
        "                for i, data in enumerate(self.validloader, 0):\n",
        "                    # get the inputs; data is a list of [inputs, labels]\n",
        "                    #inputs, labels = data[0].to(device), data[1].to(device)\n",
        "                    inputs, labels = data[0].cuda(), data[1].cuda()\n",
        "\n",
        "                    # forward \n",
        "                    outputs = self.net(inputs)\n",
        "                    loss = self.criterion(outputs, labels)\n",
        "\n",
        "                    # print statistics\n",
        "                    running_loss += loss.item()\n",
        "\n",
        "\n",
        "                epoch_loss = running_loss / (i+1)\n",
        "                self.validation_loss.append(epoch_loss)\n",
        "                print(\"Epoch: \", epoch, \" validation loss: \", '%.3f' % epoch_loss)\n",
        "\n",
        "                # save the best model based on validation loss\n",
        "                if epoch_loss < best_loss:\n",
        "                    #torch.save(self.net.state_dict(), self.PATH)\n",
        "                    best_loss = epoch_loss\n",
        "\n",
        "        time_elap = (time.time() - start_time) // 60\n",
        "        print('Finished Training in %d mins' % time_elap)\n",
        "\n",
        "        plt.plot(range(self.epoch_range), self.training_loss, 'k-')\n",
        "        plt.title('train loss vs. epoch')\n",
        "        plt.xlabel('epoch')\n",
        "        plt.ylabel('train_loss')\n",
        "        plt.show()\n",
        "\n",
        "        plt.plot(range(self.epoch_range), self.validation_loss, 'k-')\n",
        "        plt.title('validation loss vs. epoch')\n",
        "        plt.xlabel('epoch')\n",
        "        plt.ylabel('validation_loss')\n",
        "        plt.show()\n",
        "\n",
        "\n",
        "    def test_accuracy(self):\n",
        "\n",
        "        correct = 0\n",
        "        total = 0\n",
        "\n",
        "        with torch.no_grad():\n",
        "            for data in self.testloader:\n",
        "                images, labels = data\n",
        "                outputs = self.net(images.cuda())\n",
        "                #print(\"Outputs shape:\", outputs.shape)\n",
        "                _, predicted = torch.max(outputs.data, 1)\n",
        "                #print(\"predicted:\", predicted.shape)\n",
        "                total += labels.size(0)\n",
        "                correct += (predicted == labels.cuda()).sum().item()\n",
        "\n",
        "        print('Accuracy of the network on the 10000 test images: %.3F %%' % (\n",
        "            100 * correct / total))\n"
      ],
      "execution_count": null,
      "outputs": []
    },
    {
      "cell_type": "markdown",
      "metadata": {
        "id": "Mfk2dh-Vayso"
      },
      "source": [
        "# Training the digit classifier"
      ]
    },
    {
      "cell_type": "code",
      "metadata": {
        "id": "mBi9H-uxzq9r",
        "colab": {
          "base_uri": "https://localhost:8080/",
          "height": 1000
        },
        "outputId": "d6579ee1-a81c-4be3-81c6-4f64159df0c9"
      },
      "source": [
        "classifier = Classifier()\n",
        "classifier.train()"
      ],
      "execution_count": null,
      "outputs": [
        {
          "output_type": "stream",
          "text": [
            "Mounted at /content/drive\n",
            "Epoch:  0  train loss:  0.216\n",
            "Epoch:  0  validation loss:  0.080\n",
            "Epoch:  1  train loss:  0.061\n",
            "Epoch:  1  validation loss:  0.056\n",
            "Epoch:  2  train loss:  0.039\n",
            "Epoch:  2  validation loss:  0.048\n",
            "Epoch:  3  train loss:  0.026\n",
            "Epoch:  3  validation loss:  0.052\n",
            "Epoch:  4  train loss:  0.020\n",
            "Epoch:  4  validation loss:  0.042\n",
            "Epoch:  5  train loss:  0.013\n",
            "Epoch:  5  validation loss:  0.045\n",
            "Epoch:  6  train loss:  0.011\n",
            "Epoch:  6  validation loss:  0.046\n",
            "Epoch:  7  train loss:  0.009\n",
            "Epoch:  7  validation loss:  0.045\n",
            "Epoch:  8  train loss:  0.009\n",
            "Epoch:  8  validation loss:  0.050\n",
            "Epoch:  9  train loss:  0.009\n",
            "Epoch:  9  validation loss:  0.049\n",
            "Epoch:  10  train loss:  0.007\n",
            "Epoch:  10  validation loss:  0.048\n",
            "Epoch:  11  train loss:  0.004\n",
            "Epoch:  11  validation loss:  0.047\n",
            "Epoch:  12  train loss:  0.003\n",
            "Epoch:  12  validation loss:  0.045\n",
            "Epoch:  13  train loss:  0.001\n",
            "Epoch:  13  validation loss:  0.043\n",
            "Epoch:  14  train loss:  0.001\n",
            "Epoch:  14  validation loss:  0.041\n",
            "Epoch:  15  train loss:  0.001\n",
            "Epoch:  15  validation loss:  0.041\n",
            "Epoch:  16  train loss:  0.000\n",
            "Epoch:  16  validation loss:  0.042\n",
            "Epoch:  17  train loss:  0.000\n",
            "Epoch:  17  validation loss:  0.041\n",
            "Epoch:  18  train loss:  0.000\n",
            "Epoch:  18  validation loss:  0.041\n",
            "Epoch:  19  train loss:  0.000\n",
            "Epoch:  19  validation loss:  0.041\n",
            "Finished Training in 2 mins\n"
          ],
          "name": "stdout"
        },
        {
          "output_type": "display_data",
          "data": {
            "image/png": "[encoded data removed]",
            "text/plain": [
              "<Figure size 432x288 with 1 Axes>"
            ]
          },
          "metadata": {
            "tags": [],
            "needs_background": "light"
          }
        },
        {
          "output_type": "display_data",
          "data": {
            "image/png": "[encoded data removed]",
            "text/plain": [
              "<Figure size 432x288 with 1 Axes>"
            ]
          },
          "metadata": {
            "tags": [],
            "needs_background": "light"
          }
        }
      ]
    },
    {
      "cell_type": "markdown",
      "metadata": {
        "id": "CIn6NtfSbZRU"
      },
      "source": [
        "# Method for testing accuracy of the digit classifier"
      ]
    },
    {
      "cell_type": "code",
      "metadata": {
        "id": "ueLjTniObVr4",
        "colab": {
          "base_uri": "https://localhost:8080/"
        },
        "outputId": "f9b527dc-3df9-4480-9b5a-f1c5b664e965"
      },
      "source": [
        "classifier.test_accuracy()"
      ],
      "execution_count": null,
      "outputs": [
        {
          "output_type": "stream",
          "text": [
            "Accuracy of the network on the 10000 test images: 98.860 %\n"
          ],
          "name": "stdout"
        }
      ]
    },
    {
      "cell_type": "markdown",
      "metadata": {
        "id": "znZLVgV8bfgg"
      },
      "source": [
        "# Method for visualizing output of the discriminator\n",
        "\n",
        "* Produces a single row of 10 images"
      ]
    },
    {
      "cell_type": "code",
      "metadata": {
        "id": "xqtgJep-ctzY"
      },
      "source": [
        "def visualize_results(gan):\n",
        "      sample_z_ = torch.rand((10, gan.z_dim)).cuda()\n",
        "      samples = gan.G(sample_z_)\n",
        "      samples = samples.cpu().data.numpy().transpose(0, 2, 3, 1)\n",
        "      samples = (samples + 1) / 2\n",
        "      plt.figure(figsize=((1,10)))\n",
        "      fig,ax = plt.subplots(1,10)\n",
        "      for i in range(10):\n",
        "          s=ax[i].imshow(np.squeeze(samples[i,]))\n",
        "          s=ax[i].get_xaxis().set_visible(False)\n",
        "          s=ax[i].get_yaxis().set_visible(False)\n",
        "      s=plt.show()"
      ],
      "execution_count": null,
      "outputs": []
    },
    {
      "cell_type": "markdown",
      "metadata": {
        "id": "gSbEIDBWbud7"
      },
      "source": [
        "# Define a function to initialize the weights of the network"
      ]
    },
    {
      "cell_type": "code",
      "metadata": {
        "id": "0XJXKI2sv2bx"
      },
      "source": [
        "def initialize_weights(net):\n",
        "    for m in net.modules():\n",
        "        if isinstance(m, nn.Conv2d):\n",
        "            m.weight.data.normal_(0, 0.02)\n",
        "            m.bias.data.zero_()\n",
        "        elif isinstance(m, nn.ConvTranspose2d):\n",
        "            m.weight.data.normal_(0, 0.02)\n",
        "            m.bias.data.zero_()\n",
        "        elif isinstance(m, nn.Linear):\n",
        "            m.weight.data.normal_(0, 0.02)\n",
        "            m.bias.data.zero_()"
      ],
      "execution_count": null,
      "outputs": []
    },
    {
      "cell_type": "markdown",
      "metadata": {
        "id": "XWNvXje7Oyg6"
      },
      "source": [
        "# Definition for autoencoder used in DIST-GAN"
      ]
    },
    {
      "cell_type": "code",
      "metadata": {
        "id": "50yvRNhBdHuc"
      },
      "source": [
        "class autoencoder(nn.Module):\n",
        "    def __init__(self, output_dim, base_size=64):\n",
        "        super(autoencoder, self).__init__()\n",
        "        self.output_dim = output_dim\n",
        "        self.base_size = base_size\n",
        "        c = self.base_size\n",
        "\n",
        "        self.conv1 = nn.Conv2d(in_channels=1, out_channels=self.base_size, kernel_size=4, stride=2, padding=1) # out: c x 14 x 14\n",
        "        self.conv2 = nn.Conv2d(in_channels=self.base_size, out_channels=self.base_size*2, kernel_size=4, stride=2, padding=1) # out: c x 7 x 7\n",
        "        self.fc = nn.Linear(in_features=self.base_size*2*7*7, out_features=self.output_dim)\n",
        "        self.bn1 = nn.BatchNorm2d(self.base_size)\n",
        "        self.bn2 = nn.BatchNorm2d(self.base_size*2)\n",
        "        initialize_weights(self)   \n",
        "            \n",
        "    def forward(self, x):\n",
        "        x = F.relu(self.conv1(x))\n",
        "        x = self.bn1(x)\n",
        "        x = F.relu(self.conv2(x))\n",
        "        x = self.bn2(x)\n",
        "        x = x.view(x.size(0), -1) # flatten batch of multi-channel feature maps to a batch of feature vectors\n",
        "        x = self.fc(x)\n",
        "        return x"
      ],
      "execution_count": null,
      "outputs": []
    },
    {
      "cell_type": "markdown",
      "metadata": {
        "id": "9k7PncfaO4mW"
      },
      "source": [
        "# Definition used for Generator and Discriminator used in DIST-GAN"
      ]
    },
    {
      "cell_type": "code",
      "metadata": {
        "id": "T3tMaTYAdSJm"
      },
      "source": [
        "class Generator(nn.Module):\n",
        "    def __init__(self, input_dim, output_dim, input_size=28, base_size=64):\n",
        "        super(Generator, self).__init__()  \n",
        "        self.input_dim = input_dim\n",
        "        self.output_dim = output_dim\n",
        "        self.input_size = 28\n",
        "        self.base_size = base_size\n",
        "\n",
        "        self.fc = nn.Sequential(\n",
        "            nn.Linear(self.input_dim, 1024),\n",
        "            nn.BatchNorm1d(1024),\n",
        "            nn.ReLU(),\n",
        "            nn.Linear(1024, 2*self.base_size * (self.input_size // 4) * (self.input_size // 4)),\n",
        "            nn.BatchNorm1d(2*self.base_size * (self.input_size // 4) * (self.input_size // 4)),\n",
        "            nn.ReLU(),\n",
        "        )\n",
        "\n",
        "        self.deconv = nn.Sequential(\n",
        "            nn.ConvTranspose2d(2*self.base_size, self.base_size, 4, 2, 1),\n",
        "            nn.BatchNorm2d(self.base_size),\n",
        "            nn.ReLU(),\n",
        "            nn.ConvTranspose2d(self.base_size, self.output_dim, 4, 2, 1),\n",
        "            nn.Tanh(),\n",
        "        )\n",
        "\n",
        "        initialize_weights(self)           \n",
        "    \n",
        "    # forward method\n",
        "    def forward(self, x): \n",
        "       # x = x.view(-1, self.input_size * self.input_size)\n",
        "        x = self.fc(x)\n",
        "        x = x.view(-1, 2*self.base_size, (self.input_size // 4), (self.input_size // 4))\n",
        "        x = self.deconv(x)\n",
        "        return x\n",
        "\n",
        "\n",
        "\n",
        "\n",
        "class Discriminator(nn.Module):\n",
        "  def __init__(self, input_dim, output_dim, input_size=28, base_size=64):\n",
        "        super(Discriminator, self).__init__()\n",
        "        self.input_dim = input_dim\n",
        "        self.output_dim = output_dim\n",
        "        self.input_size = input_size\n",
        "        self.base_size = base_size\n",
        "\n",
        "\n",
        "\n",
        " \n",
        "        self.conv = nn.Sequential(\n",
        "            nn.Conv2d(self.input_dim, self.base_size, 4, 2, 1),\n",
        "            nn.LeakyReLU(0.2),\n",
        "            nn.Conv2d(self.base_size, 2*self.base_size, 4, 2, 1),\n",
        "            nn.BatchNorm2d(2*self.base_size),\n",
        "            nn.LeakyReLU(0.2),\n",
        "        )\n",
        "        self.fc = nn.Sequential(\n",
        "            nn.Linear(2*self.base_size * (self.input_size // 4) * (self.input_size // 4), 1024),\n",
        "            nn.BatchNorm1d(1024),\n",
        "            nn.LeakyReLU(0.2),\n",
        "            nn.Linear(1024, self.output_dim),\n",
        "            \n",
        "        )\n",
        "        self.Sig = nn.Sigmoid()\n",
        "\n",
        "        initialize_weights(self)\n",
        "\n",
        "     # forward method\n",
        "  def forward(self, x):\n",
        "        x = self.conv(x)\n",
        "        y = x.view(-1, 2*self.base_size * (self.input_size // 4) * (self.input_size // 4))\n",
        "        logits  = self.fc(y) # logits \n",
        "        prob = self.Sig(logits) ## prob\n",
        "\n",
        "        return prob,logits,x"
      ],
      "execution_count": null,
      "outputs": []
    },
    {
      "cell_type": "markdown",
      "metadata": {
        "id": "0JbIwn7zb1uP"
      },
      "source": [
        "# Method for calculating sigmoid logot loss of discriminator"
      ]
    },
    {
      "cell_type": "code",
      "metadata": {
        "id": "V2tLKwfHqk4k"
      },
      "source": [
        "\n",
        "# Sigmoid loss with logits, keep as tensor \n",
        "# z = labels , torch.ones_like discriminator sigmoid prob\n",
        "# x =  discriminator logits prob \n",
        "\n",
        "def Sigmoid_logits_loss(logits, labels):\n",
        "  z = labels\n",
        "  x = logits \n",
        "  #z = z * -torch.log(torch.sigmoid(x)) + (1 - z) * -torch.log(1 - torch.sigmoid(x))\n",
        "  #z = z * -torch.log(1 / (1 + torch.exp(-x))) + (1 - z) * -torch.log(torch.exp(-x) / (1 + torch.exp(-x)))\n",
        "  #z = z * torch.log(1 + torch.exp(-x)) + (1 - z) * (-torch.log(torch.exp(-x)) + torch.log(1 + torch.exp(-x)))\n",
        "  #z = z * torch.log(1 + torch.exp(-x)) + (1 - z) * (x + torch.log(1 + torch.exp(-x)))\n",
        "  loss = 0\n",
        "  for i, x in enumerate(x):\n",
        "    for j, z in enumerate(z):\n",
        "      if x >0:\n",
        "        loss = x - x * z + torch.log(1 + torch.exp(-x))\n",
        "      else:\n",
        "        loss = - x * z + torch.log(1 + torch.exp(x))\n",
        "      loss += loss\n",
        "    return loss\n"
      ],
      "execution_count": null,
      "outputs": []
    },
    {
      "cell_type": "markdown",
      "metadata": {
        "id": "Vh8T4_iueTUl"
      },
      "source": [
        "# Calculate the Eigenvalues for Discriminator/Generator"
      ]
    },
    {
      "cell_type": "code",
      "metadata": {
        "id": "SxJrWuwoeZaW"
      },
      "source": [
        "from scipy.sparse import linalg\n",
        "\n",
        "def get_eigenvectors(model, loss, dataloader):\n",
        "    # Adds up the number of weights in the model\n",
        "    num_params = sum(p.numel() for p in model.parameters())\n",
        "\n",
        "    hv = HessianVector(model=model, \n",
        "                       dataloader=dataloader, \n",
        "                       loss=loss)\n",
        "    \n",
        "    A = linalg.LinearOperator((num_params,num_params), matvec=lambda v: hv.calculate(torch.tensor(v).float()))\n",
        "\n",
        "    # Gets 'k' with the Largest (algebraic) eigenvalues\n",
        "    k = 5\n",
        "    vals, vecs = linalg.eigsh(A, k=k, mode='LA')\n",
        "\n",
        "    no_grad_indices = []\n",
        "\n",
        "    # Find all top-k eigenvalues that are greater than the threshold and add their position to the list\n",
        "    for index, val in enumerate(vals):\n",
        "        if (val > 500):\n",
        "            no_grad_indices.append(np.argmax(vecs[:, index]))\n",
        "        print(\"\\t\", val, np.argmax(vecs[:, index]))\n",
        "\n",
        "\n",
        "    w_count = 0\n",
        "    # Loop through all the parameters and zero the gradient of the layer that contains the weight parameter\n",
        "    if (len(no_grad_indices) > 0):\n",
        "        for i, p in enumerate(model.parameters()):\n",
        "            prev_w = w_count\n",
        "            w_count = w_count + p.numel()\n",
        "            for index in no_grad_indices:\n",
        "                if (w_count >= index) and (index > prev_w): # and (p.grad is not None):\n",
        "                    p.grad.data.zero_()\n",
        "                    print(\"Zeroing gradients\")\n",
        "\n",
        "    print(\"updated hessian\")\n"
      ],
      "execution_count": null,
      "outputs": []
    },
    {
      "cell_type": "markdown",
      "metadata": {
        "id": "z9-gLMVfe-eh"
      },
      "source": [
        "# Hessian Vector Class\n",
        "\n",
        "* scipy.sparse.linalg.LinearOperator"
      ]
    },
    {
      "cell_type": "code",
      "metadata": {
        "id": "q1T__omze_sR"
      },
      "source": [
        "class HessianVector():\n",
        "\n",
        "    def __init__(self, model, dataloader, loss, percentage=0.2):\n",
        "        self.size = int(sum(param.numel() for param in model.parameters()))\n",
        "        self.grad_vec = torch.zeros(self.size)\n",
        "        self.percentage = percentage\n",
        "        self.dataloader = dataloader\n",
        "        self.model = model\n",
        "        self.loss = loss\n",
        "\n",
        "\n",
        "    def calculate(self, vector):\n",
        "        full_hessian = None\n",
        "        # Place vector on the GPU\n",
        "        vector = vector.cuda()\n",
        "\n",
        "        grad_vec = None\n",
        "\n",
        "        batch_grad = self.prepare_grad()\n",
        "\n",
        "        #print(\"Batch Shape:\", batch_grad.shape)\n",
        "\n",
        "        self.zero_grad()\n",
        "        # Take the second gradient\n",
        "        grad_grad = torch.autograd.grad(batch_grad, self.model.parameters(), grad_outputs=vector, only_inputs=True, retain_graph=True, allow_unused=True)\n",
        "        # Concatentate the results over the different components of the network\n",
        "        hessian_vec_prod = torch.cat([g.contiguous().view(-1) for g in grad_grad])\n",
        "        # Adds/Sets Full Hessian\n",
        "        if full_hessian is not None:\n",
        "            full_hessian += hessian_vec_prod\n",
        "        else:\n",
        "            full_hessian = hessian_vec_prod\n",
        "\n",
        "        # Hessian must be returned on the CPU\n",
        "        return full_hessian.cpu()\n",
        "\n",
        "    def zero_grad(self):\n",
        "        \"\"\"\n",
        "        Zeros out the gradient info for each parameters and vectorize\n",
        "        \"\"\"\n",
        "\n",
        "        for p in self.model.parameters():\n",
        "            if p.grad is not None:\n",
        "                p.grad.data.zero_()\n",
        "\n",
        "\n",
        "    def prepare_grad(self):\n",
        "\n",
        "\n",
        "        grad_vec = None\n",
        "\n",
        "        grad_dict = torch.autograd.grad(self.loss, self.model.parameters(), create_graph=True, retain_graph=True, allow_unused=True)\n",
        "        grad_vec = torch.cat([g.contiguous().view(-1) for g in grad_dict])\n",
        "        self.grad_vec = grad_vec\n",
        "        return self.grad_vec"
      ],
      "execution_count": null,
      "outputs": []
    },
    {
      "cell_type": "markdown",
      "metadata": {
        "id": "t5jyyHupbzZ8"
      },
      "source": [
        "# Method for determinign inception score of GAN"
      ]
    },
    {
      "cell_type": "code",
      "metadata": {
        "id": "WqbTKTnTwIbS"
      },
      "source": [
        "def inception_score(gan, n_split=10, eps=1E-16):\n",
        "\n",
        "      num_images = 100\n",
        "      sample_z_ = torch.rand((num_images, gan.z_dim)).cuda()\n",
        "      #print(sample_z_.shape)\n",
        "      samples = gan.G(sample_z_)\n",
        "      #print(samples.shape)\n",
        "\n",
        "      samples_np = samples.cpu().data.numpy()\n",
        "\n",
        "      # enumerate splits of images/predictions\n",
        "      scores = list()\n",
        "      n_part = floor(num_images / n_split)\n",
        "\n",
        "      for i in range(n_part):\n",
        "          # retrieve subset of images\n",
        "          ix_start, ix_end = i * n_part, (i+1) * n_part\n",
        "          subset = samples_np[ix_start:ix_end]\n",
        "          # convert from uint8 to float32\n",
        "          subset = subset.astype('float32')\n",
        "          # predict p(y|x)\n",
        "          outputs = classifier.net(torch.from_numpy(subset).cuda())\n",
        "          outputs = F.softmax(outputs,dim=1)\n",
        "\n",
        "          p_yx = outputs.cpu().data.numpy()\n",
        "          p_yx = np.expand_dims(p_yx, 0)\n",
        "\n",
        "          # calculate p(y)\n",
        "          p_y = np.expand_dims(p_yx.mean(axis=1), 0)\n",
        "\n",
        "          # calculate KL divergence using log probabilities\n",
        "          kl_d = p_yx * (np.log(p_yx + eps) - np.log(p_y + eps))\n",
        "\n",
        "          # sum over classes\n",
        "          sum_kl_d = kl_d.sum(axis=1)\n",
        "\n",
        "          # average over images\n",
        "          avg_kl_d = np.mean(sum_kl_d)\n",
        "\n",
        "          # undo the log\n",
        "          is_score = np.exp(avg_kl_d)\n",
        "\n",
        "\t\t      # store scores\n",
        "          scores.append(is_score)\n",
        "        \n",
        "      # average across images\n",
        "      is_avg, is_std = np.mean(scores), np.std(scores)\n",
        "      return is_avg,is_std\n",
        "     \n",
        "      #print(is_avg, is_std)"
      ],
      "execution_count": null,
      "outputs": []
    },
    {
      "cell_type": "markdown",
      "metadata": {
        "id": "qo49YS21qlJQ"
      },
      "source": [
        "# Creating GAN Network"
      ]
    },
    {
      "cell_type": "code",
      "metadata": {
        "id": "XRBPFiScdbXy"
      },
      "source": [
        "from torch.autograd import grad as torch_grad\n",
        "\n",
        "class GAN():\n",
        "    def __init__(self,params):\n",
        "        # parameters\n",
        "        self.epoch = params['max_epochs']\n",
        "        self.sample_num = 100\n",
        "        self.batch_size = 300\n",
        "        self.input_size = 28\n",
        "        self.z_dim = params['z_dim']\n",
        "        self.base_size = params['base_size']\n",
        "\n",
        "     \n",
        "        self.lamda_p = 1.0     # regularization term of gradient penalty\n",
        "        self.lamda_r = 1.0    # autoencoders regularization term  \n",
        "       \n",
        "        \n",
        "        \n",
        "        # load dataset\n",
        "        self.data_loader = torch.utils.data.DataLoader(train_dataset, \n",
        "                                               batch_size=self.batch_size, \n",
        "                                               shuffle=True)\n",
        "        data = self.data_loader.__iter__().__next__()[0]\n",
        "\n",
        "        print(data.shape[1])\n",
        "\n",
        "        # initialization of the generator and discriminator and autoencoder \n",
        "        self.A = autoencoder(output_dim=self.z_dim, base_size=self.base_size).cuda()\n",
        "        self.G = Generator(input_dim=self.z_dim, output_dim=data.shape[1], input_size=self.input_size,base_size=self.base_size).cuda()\n",
        "        self.D = Discriminator(input_dim=data.shape[1], output_dim=1, input_size=self.input_size,base_size=self.base_size).cuda()\n",
        "      \n",
        "\n",
        "        self.A_optimizer =  optim.Adam(self.A.parameters(), lr=params['lr_g'], betas=(params['beta1'], params['beta2']),eps=1e-09)\n",
        "        self.G_optimizer = optim.Adam(self.G.parameters(), lr=params['lr_g'], betas=(params['beta1'], params['beta2']),eps=1e-09)\n",
        "        self.D_optimizer = optim.Adam(self.D.parameters(), lr=params['lr_d'], betas=(params['beta1'], params['beta2']),eps=1e-09)\n",
        "        \n",
        "      \n",
        "    \n",
        "        \n",
        "# Fucntion to train the GAN, where you alternate between the training of the genenator and discriminator\n",
        "#--------------------------------------------------------------------------------------------------------\n",
        "\n",
        "    def train(self):\n",
        "        self.train_hist = {}\n",
        "        self.train_hist['D_loss'] = []\n",
        "        self.train_hist['G_loss'] = []\n",
        "        self.train_hist['IS_score'] = []\n",
        "\n",
        "        # Setting up the labels for real and fake images\n",
        "        self.y_real_, self.y_fake_ = torch.ones(self.batch_size,1).fill_(0.9).type(torch.float32).cuda(), torch.zeros(self.batch_size, 1).cuda()\n",
        "        \n",
        "        print('training start!!')\n",
        "\n",
        "        for epoch in range(self.epoch):\n",
        "            epoch_start_time = time.time()\n",
        "\n",
        "\n",
        "            for iter, (x_, _) in enumerate(self.data_loader):\n",
        "                if iter == self.data_loader.dataset.__len__() // self.batch_size:\n",
        "                    break\n",
        "                z_ = torch.rand((self.batch_size, self.z_dim))\n",
        "               \n",
        "                x_, z_ = x_.cuda() ,z_.cuda()\n",
        "        \n",
        "                #-------------Train Autoencoder & Generator to minimize reconstruction loss ------------# \n",
        "                # auto-encoders and its regularizatize \n",
        "                # zero the gradients \n",
        "\n",
        "                self.D_optimizer.zero_grad() \n",
        "                self.A_optimizer.zero_grad()\n",
        "                # reconstructed image\n",
        "                recon = self.A(x_)\n",
        "\n",
        "                self.G_optimizer.zero_grad()\n",
        "                X_r = self.G(recon) # reconstructed iamges from generator \n",
        "               # print(\"\\tX_r:\", X_r.shape)\n",
        "                X_f = self.G(z_) # fake images from generator \n",
        "                #print(\"\\tX_f:\", X_f.shape)\n",
        "                X_r, X_f = X_r, X_f\n",
        "                \n",
        "                D_real_prob, D_real_logits, D_real = self.D(x_)\n",
        "                D_recon_prob, D_recon_logits,D_recon= self.D(X_r)\n",
        "                D_fake_prob, D_fake_logits,D_fake = self.D(X_f)\n",
        "\n",
        "                #print(D_real.shape)\n",
        "                #print(x_.shape)\n",
        "\n",
        "                ##auto-encoders and Regularization from Dist-Gan paper \n",
        "\n",
        "                R_loss = torch.mean(torch.square(D_real-D_recon))\n",
        "                #print(\"\\tR_loss:\", R_loss.shape)\n",
        "                f = torch.mean(D_recon - D_fake) #distance between reconstructed imgs and reconstructed fake imgs \n",
        "                #print(\"\\tf:\", f.shape)\n",
        "                # w parmeter = sqrt(latent dim * 1/ feature dim ) = .1562 for 100\n",
        "                # latent dim 1 wp = .01562\n",
        "                # latent dim 10 wp = .04939\n",
        "\n",
        "                wp = np.sqrt(self.z_dim/4096)\n",
        "                g = torch.mean(recon - z_) * wp # distance between reconstruced imgs and noise # higher value = initial lowvD training loss  \n",
        "                #print(\"\\tg:\", g.shape)\n",
        "                R_reg = torch.square(f - g)\n",
        "\n",
        "               \n",
        "                # Train Autoencoder with R_loss \n",
        "                R_loss = R_loss + self.lamda_r * R_reg\n",
        "                #print(\"\\tR_loss\", R_loss.shape)\n",
        "                R_loss.backward()\n",
        "                self.A_optimizer.step()\n",
        "                \n",
        "                D_real_prob, D_real_logits, d_real = self.D(x_.detach())\n",
        "                D_recon_prob, D_recon_logits,D_recon= self.D(X_r.detach())\n",
        "                D_fake_prob, D_fake_logits,D_fake = self.D(X_f.detach())\n",
        "\n",
        "\n",
        "                #Train Generator with G_Loss \n",
        "               \n",
        "                G_loss = torch.abs(torch.mean(D_real_prob) - torch.mean(D_fake_prob))\n",
        "\n",
        "                if (((iter + 1) % 50) == 0):\n",
        "                #     print(\"Generator Eigen Values\")\n",
        "                #     get_eigenvectors(self.G, G_loss, self.data_loader)\n",
        "                    print(G_loss)\n",
        "\n",
        "                G_loss.backward()\n",
        "                self.G_optimizer.step()\n",
        "\n",
        "\n",
        "\n",
        "               #-----------Train Discriminator --------#######\n",
        "                \n",
        "                #Train Discriminator with Discriminator Score \n",
        "                D_real_prob, D_real_logits, d_real = self.D(x_.detach())\n",
        "                D_recon_prob, D_recon_logits,D_recon= self.D(X_r.detach())\n",
        "                D_fake_prob, D_fake_logits,D_fake = self.D(X_f.detach())\n",
        "                \n",
        "\n",
        "\n",
        "                # interpolation     \n",
        "                epsilon = torch.rand(x_.size())\n",
        "                epsilon = epsilon.cuda()\n",
        "                interpolation = x_ * epsilon + (1-epsilon) * X_f\n",
        "                d_inter_prob, d_inter_logits, d_inter = self.D(interpolation)\n",
        "\n",
        "                # Gradient Penalty \n",
        "                gradients = torch_grad(d_inter_logits, interpolation, grad_outputs=torch.ones(d_inter_logits.size()).cuda())[0]\n",
        "              \n",
        "                slopes = torch.sqrt(torch.mean(torch.square(gradients),1))\n",
        "                gp = torch.mean((slopes-1)**2)\n",
        "            \n",
        "                #print(D_real_logits.shape)\n",
        "            \n",
        "                # Discriminator loss on data\n",
        "                d_loss_real = torch.mean(Sigmoid_logits_loss( D_real_logits,torch.ones_like(D_real_prob)))\n",
        "                d_loss_recon = torch.mean(Sigmoid_logits_loss(D_recon_logits, torch.ones_like(D_recon_prob)))\n",
        "                d_loss_fake = torch.mean(Sigmoid_logits_loss(D_fake_logits,torch.zeros_like(D_fake_prob)))\n",
        "               # print(d_loss_real.shape)\n",
        "\n",
        "                # loss w.r.t gradient penalty and reconstruction term \n",
        "                D_loss = d_loss_real + d_loss_recon + d_loss_fake\n",
        "                D_loss = D_loss + self.lamda_p * gp\n",
        "\n",
        "                if (((iter + 1) % 50) == 0):\n",
        "                    print(D_loss)\n",
        "                    print(\"Discriminator Eigen Values\")\n",
        "                    indices = get_eigenvectors(self.D, D_loss, self.data_loader)\n",
        "              \n",
        "                #train Discriminator\n",
        "                \n",
        "                D_loss.backward()\n",
        "                self.D_optimizer.step()\n",
        "\n",
        "\n",
        "\n",
        "                # 5. Set the current loss in self.train_hist['D_loss]\n",
        "                self.train_hist['D_loss'].append(D_loss.item())\n",
        "                \n",
        "      \n",
        "     \n",
        "                #---------------Train Generator to minimize discriminator score --------#\n",
        "                D_real_prob, D_real_logits, d_real = self.D(x_.detach())\n",
        "                D_recon_prob, D_recon_logits,D_recon= self.D(X_r.detach())\n",
        "                D_fake_prob, D_fake_logits,D_fake = self.D(X_f.detach())\n",
        "             \n",
        "                #self.G_optimizer.zero_grad()\n",
        "                G_loss = torch.abs(torch.mean(D_real_prob) - torch.mean(D_fake_prob))\n",
        "\n",
        "                if (((iter + 1) % 50) == 0):\n",
        "                #     print(\"Generator Eigen Values\")\n",
        "                #     get_eigenvectors(self.G, G_loss, self.data_loader)\n",
        "                    print(G_loss)\n",
        "\n",
        "                G_loss.backward()\n",
        "                self.G_optimizer.step()\n",
        "                # 5. Set the current loss in self.train_hist['G_loss]    \n",
        "                self.train_hist['G_loss'].append(G_loss.item())\n",
        "\n",
        "                # Print iterations and losses\n",
        "\n",
        "                if ((iter + 1) % 50) == 0:\n",
        "              \n",
        "                  print(\"Epoch: [%2d] [%4d/%4d] D_loss: %.8f, G_loss: %.8f\" %\n",
        "                          ((epoch + 1), (iter + 1), self.data_loader.dataset.__len__() // self.batch_size, D_loss.item(), G_loss.item()))\n",
        "          \n",
        "                     # Visualize results\n",
        "            if ((epoch + 1) % 10) == 0:\n",
        "                with torch.no_grad():\n",
        "                  print(\"Training at Epoch:\")\n",
        "                  print(epoch)\n",
        "                  visualise_output(self)\n",
        "                  is_avg, _ = inception_score(self)\n",
        "                  self.train_hist['IS_score'].append(is_avg)\n",
        "           \n",
        "            with torch.no_grad():\n",
        "                is_avg, _ = inception_score(self)\n",
        "                self.train_hist['IS_score'].append(is_avg)\n",
        "           \n",
        "\n",
        "              \n",
        "           \n",
        "            \n",
        "\n",
        "\n",
        "        print(\"Training finished!\")"
      ],
      "execution_count": null,
      "outputs": []
    },
    {
      "cell_type": "markdown",
      "metadata": {
        "id": "SNu3EKQmcuZB"
      },
      "source": [
        "# Visualize output of Generator by creating 10x10 grid\n"
      ]
    },
    {
      "cell_type": "code",
      "metadata": {
        "id": "BiS5wj4dgutg"
      },
      "source": [
        "import matplotlib.pyplot as plt\n",
        "plt.ion()\n",
        "import torchvision.utils\n",
        "\n",
        "def visualise_output(gan):\n",
        "\n",
        "    with torch.no_grad():\n",
        "        sample_z_ = torch.rand((gan.base_size, gan.z_dim)).cuda()\n",
        "        samples = gan.G(sample_z_)\n",
        "        samples = samples.cpu()\n",
        "        samples = (samples + 1) / 2\n",
        "        np_imagegrid = torchvision.utils.make_grid(samples[1:100], 10, 5).detach().numpy()\n",
        "        plt.imshow(np.transpose(np_imagegrid, (1, 2, 0)))\n",
        "        plt.show()\n"
      ],
      "execution_count": null,
      "outputs": []
    },
    {
      "cell_type": "markdown",
      "metadata": {
        "id": "3DAlqmH6ckyQ"
      },
      "source": [
        "# Training the GAN model"
      ]
    },
    {
      "cell_type": "code",
      "metadata": {
        "id": "tW-BInEbtLlE",
        "colab": {
          "base_uri": "https://localhost:8080/"
        },
        "outputId": "3fcca5cf-cf48-409e-a3c4-b68b9d01783e"
      },
      "source": [
        "params = {'beta1': 0.5, 'beta2': 0.9,'lr_g':0.002,'lr_d':0.002,'max_epochs':1}\n",
        "\n",
        "params['z_dim'] = 10\n",
        "params['base_size'] = 64\n",
        "\n",
        "gan = GAN(params)\n",
        "gan.train()"
      ],
      "execution_count": null,
      "outputs": [
        {
          "output_type": "stream",
          "text": [
            "1\n",
            "training start!!\n",
            "tensor(0.0014, device='cuda:0', grad_fn=<AbsBackward>)\n",
            "tensor(7.8095, device='cuda:0', grad_fn=<AddBackward0>)\n",
            "Discriminator Eigen Values\n",
            "\tGot eigenvectors (6559169, 6559169)\n",
            "\t -76.784645 6559041\n",
            "\t -69.12984 755\n",
            "\t 70.240715 6558576\n",
            "\t 123.66843 6559039\n",
            "\t 290.87753 754\n",
            "0\n",
            "updated hessian\n",
            "tensor(0.0029, device='cuda:0', grad_fn=<AbsBackward>)\n",
            "Epoch: [ 1] [  50/ 200] D_loss: 7.80953455, G_loss: 0.00294191\n",
            "tensor(0.0007, device='cuda:0', grad_fn=<AbsBackward>)\n",
            "tensor(5.3083, device='cuda:0', grad_fn=<AddBackward0>)\n",
            "Discriminator Eigen Values\n",
            "\tGot eigenvectors (6559169, 6559169)\n",
            "\t -88.91906 6559017\n",
            "\t -38.994747 6558649\n",
            "\t 85.68182 6558661\n",
            "\t 104.079506 6558661\n",
            "\t 303.2596 759\n",
            "0\n",
            "updated hessian\n",
            "tensor(0.0018, device='cuda:0', grad_fn=<AbsBackward>)\n",
            "Epoch: [ 1] [ 100/ 200] D_loss: 5.30830526, G_loss: 0.00180471\n",
            "tensor(0.0052, device='cuda:0', grad_fn=<AbsBackward>)\n",
            "tensor(5.6579, device='cuda:0', grad_fn=<AddBackward0>)\n",
            "Discriminator Eigen Values\n",
            "\tGot eigenvectors (6559169, 6559169)\n",
            "\t -38.301826 6559034\n",
            "\t -27.26896 6558739\n",
            "\t 39.33197 255\n",
            "\t 169.83905 6558821\n",
            "\t 521.71875 6558161\n",
            "1\n",
            "torch.Size([64, 1, 4, 4])\n",
            "1024\n",
            "torch.Size([64])\n",
            "1088\n",
            "torch.Size([128, 64, 4, 4])\n",
            "132160\n",
            "torch.Size([128])\n",
            "132288\n",
            "torch.Size([128])\n",
            "132416\n",
            "torch.Size([128])\n",
            "132544\n",
            "torch.Size([1024, 6272])\n",
            "6555072\n",
            "torch.Size([1024])\n",
            "6556096\n",
            "torch.Size([1024])\n",
            "6557120\n",
            "torch.Size([1024])\n",
            "6558144\n",
            "torch.Size([1, 1024])\n",
            "6559168\n",
            "Zeroing gradients\n",
            "torch.Size([1])\n",
            "6559169\n",
            "Modified gradients\n",
            "updated hessian\n",
            "tensor(0.0041, device='cuda:0', grad_fn=<AbsBackward>)\n",
            "Epoch: [ 1] [ 150/ 200] D_loss: 5.65787220, G_loss: 0.00409722\n",
            "tensor(0.0069, device='cuda:0', grad_fn=<AbsBackward>)\n",
            "tensor(4.8137, device='cuda:0', grad_fn=<AddBackward0>)\n",
            "Discriminator Eigen Values\n",
            "\tGot eigenvectors (6559169, 6559169)\n",
            "\t -28.926723 6558400\n",
            "\t -15.835368 6558503\n",
            "\t 19.798962 224\n",
            "\t 66.1885 752\n",
            "\t 421.22137 6558609\n",
            "0\n",
            "updated hessian\n",
            "tensor(0.0034, device='cuda:0', grad_fn=<AbsBackward>)\n",
            "Epoch: [ 1] [ 200/ 200] D_loss: 4.81366491, G_loss: 0.00340414\n",
            "Training finished!\n"
          ],
          "name": "stdout"
        }
      ]
    },
    {
      "cell_type": "markdown",
      "metadata": {
        "id": "qszxU59wdDwt"
      },
      "source": [
        "# Loss History for GAN optimization\n",
        "\n",
        "* The loss will achieve a low value when it can reliably separate the two classes.\n",
        "* The loss will achieve a low value when it can successfully fool the discriminator"
      ]
    },
    {
      "cell_type": "code",
      "metadata": {
        "id": "qKzGwg_HIKe5",
        "colab": {
          "base_uri": "https://localhost:8080/",
          "height": 513
        },
        "outputId": "56fea83b-ee61-4207-c8a8-576c3b553479"
      },
      "source": [
        "plt.figure(figsize=(16,8))\n",
        "s=plt.plot(gan.train_hist['D_loss'],c='b')\n",
        "s=plt.plot(gan.train_hist['G_loss'],c='r')\n",
        "s = plt.ylim((0,20))\n",
        "s = plt.grid()\n",
        "s=plt.legend(('Discriminator loss','Generator loss'))\n",
        "s=plt.title(\"NuGAN+DISTGAN: Loss at Latent Dim \" + str(gan.z_dim))\n",
        "s=plt.ylabel(\"Losses\")\n",
        "s=plt.xlabel(\"Iterations\")"
      ],
      "execution_count": null,
      "outputs": [
        {
          "output_type": "display_data",
          "data": {
            "image/png": "[encoded data removed]",
            "text/plain": [
              "<Figure size 1152x576 with 1 Axes>"
            ]
          },
          "metadata": {
            "tags": [],
            "needs_background": "light"
          }
        }
      ]
    },
    {
      "cell_type": "markdown",
      "metadata": {
        "id": "ySUzSh4Dka8P"
      },
      "source": [
        "# Plotting inception Score for model with latent dim\n"
      ]
    },
    {
      "cell_type": "code",
      "metadata": {
        "id": "uVWDX-uGDk_G",
        "colab": {
          "base_uri": "https://localhost:8080/",
          "height": 513
        },
        "outputId": "bc295ab1-b33c-42b8-f3a9-c08dd0710568"
      },
      "source": [
        "plt.figure(figsize=(16,8))\n",
        "s=plt.plot(gan.train_hist['IS_score'],c='b')\n",
        "s = plt.ylim((0,11))\n",
        "s = plt.grid()\n",
        "s=plt.legend('Inception Score')\n",
        "s=plt.title(\"NuGAN+DISTGAN: Loss at Latent Dim \" + str(gan.z_dim))\n",
        "s=plt.ylabel(\"Losses\")\n",
        "s=plt.xlabel(\"Iterations\")"
      ],
      "execution_count": null,
      "outputs": [
        {
          "output_type": "display_data",
          "data": {
            "image/png": "[encoded data removed]",
            "text/plain": [
              "<Figure size 1152x576 with 1 Axes>"
            ]
          },
          "metadata": {
            "tags": [],
            "needs_background": "light"
          }
        }
      ]
    },
    {
      "cell_type": "markdown",
      "metadata": {
        "id": "juAFRnaNkl6k"
      },
      "source": [
        "# model with latent dim 10"
      ]
    },
    {
      "cell_type": "code",
      "metadata": {
        "id": "AJcm7xXXAlBI"
      },
      "source": [
        "params = {'beta1': 0.5, 'beta2': 0.9,'lr_g':0.002,'lr_d':0.002,'max_epochs':102}\n",
        "\n",
        "params['z_dim'] = 10\n",
        "params['base_size'] = 64\n",
        "\n",
        "gan2 = GAN(params)\n",
        "\n",
        "\n",
        "gan2.train()"
      ],
      "execution_count": null,
      "outputs": []
    },
    {
      "cell_type": "code",
      "metadata": {
        "id": "94bmOnHqJZpg"
      },
      "source": [
        "\n",
        "plt.figure(figsize=(16,8))\n",
        "s=plt.plot(gan2.train_hist['D_loss'],c='b')\n",
        "s=plt.plot(gan2.train_hist['G_loss'],c='r')\n",
        "s = plt.ylim((0,3))\n",
        "s = plt.grid()\n",
        "s=plt.legend(('Discriminator loss','Generator loss'))"
      ],
      "execution_count": null,
      "outputs": []
    },
    {
      "cell_type": "code",
      "metadata": {
        "id": "R2FVHeseJcjL"
      },
      "source": [
        "plt.figure(figsize=(16,8))\n",
        "s=plt.plot(gan2.train_hist['IS_score'],c='b')\n",
        "s = plt.ylim((0,11))\n",
        "s = plt.grid()\n",
        "s=plt.legend(('Inception Score','Generator loss'))\n",
        "print(gan2.train_hist['IS_score'])"
      ],
      "execution_count": null,
      "outputs": []
    }
  ]
}