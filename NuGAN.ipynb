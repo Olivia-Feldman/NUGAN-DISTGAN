{
  "nbformat": 4,
  "nbformat_minor": 0,
  "metadata": {
    "colab": {
      "name": "NuGAN.ipynb",
      "provenance": [],
      "authorship_tag": "ABX9TyPiVbt/9gS59q5VPzIIg5XZ",
      "include_colab_link": true
    },
    "kernelspec": {
      "name": "python3",
      "display_name": "Python 3"
    },
    "language_info": {
      "name": "python"
    },
    "accelerator": "GPU"
  },
  "cells": [
    {
      "cell_type": "markdown",
      "metadata": {
        "id": "view-in-github",
        "colab_type": "text"
      },
      "source": [
        "<a href=\"https://colab.research.google.com/github/Olivia-Feldman/NUGAN-DISTGAN/blob/Andrew/NuGAN.ipynb\" target=\"_parent\"><img src=\"https://colab.research.google.com/assets/colab-badge.svg\" alt=\"Open In Colab\"/></a>"
      ]
    },
    {
      "cell_type": "markdown",
      "metadata": {
        "id": "z8isMKhlx0xr"
      },
      "source": [
        "# Set up the environment"
      ]
    },
    {
      "cell_type": "code",
      "metadata": {
        "id": "yk03kg9rxO4W"
      },
      "source": [
        "import torch\n",
        "import time\n",
        "import torch.nn as nn\n",
        "import torch.nn.functional as F\n",
        "import torch.optim as optim\n",
        "from torchvision import datasets, transforms\n",
        "from torch.autograd import Variable\n",
        "from torchvision.utils import save_image\n",
        "import matplotlib.pyplot as plt\n",
        "import numpy as np"
      ],
      "execution_count": 1,
      "outputs": []
    },
    {
      "cell_type": "markdown",
      "metadata": {
        "id": "wg5lYCj_yCje"
      },
      "source": [
        "# Download the MNIST dataset\n",
        "\n",
        "[MNIST PyTorch Docs](https://pytorch.org/vision/stable/datasets.html#mnist)"
      ]
    },
    {
      "cell_type": "code",
      "metadata": {
        "id": "EZ43QkgQyIkV"
      },
      "source": [
        "# MNIST Dataset\n",
        "transform = transforms.Compose([\n",
        "    transforms.ToTensor(),\n",
        "    transforms.Normalize(mean=(0.5), std=(0.5))])\n",
        "\n",
        "train_dataset = datasets.MNIST(root='./data', train=True, transform=transform, download=True)\n",
        "test_dataset = datasets.MNIST(root='./data', train=False, transform=transform, download=True)\n",
        "\n",
        "train_loader = torch.utils.data.DataLoader(dataset=train_dataset, batch_size=100, shuffle=True)\n",
        "test_loader = torch.utils.data.DataLoader(dataset=test_dataset, batch_size=100, shuffle=False)"
      ],
      "execution_count": 2,
      "outputs": []
    },
    {
      "cell_type": "markdown",
      "metadata": {
        "id": "O_BZppFLyWBC"
      },
      "source": [
        "# Showing shape of train and test dataset"
      ]
    },
    {
      "cell_type": "code",
      "metadata": {
        "colab": {
          "base_uri": "https://localhost:8080/"
        },
        "id": "pPO3ZvOPybpd",
        "outputId": "587c3971-ab5d-44b2-d32f-5241b3cfaa7d"
      },
      "source": [
        "print(\"Train Shape:\", train_dataset.data.shape, \"Test Shape:\", test_dataset.data.shape)"
      ],
      "execution_count": 3,
      "outputs": [
        {
          "output_type": "stream",
          "text": [
            "Train Shape: torch.Size([60000, 28, 28]) Test Shape: torch.Size([10000, 28, 28])\n"
          ],
          "name": "stdout"
        }
      ]
    },
    {
      "cell_type": "markdown",
      "metadata": {
        "id": "hQ_WamIMwfXI"
      },
      "source": [
        "# Define a function to initialize the weights of the network\n"
      ]
    },
    {
      "cell_type": "code",
      "metadata": {
        "id": "v_qbzeYmwdCE"
      },
      "source": [
        "def initialize_weights(net):\n",
        "    for m in net.modules():\n",
        "        if isinstance(m, nn.Conv2d):\n",
        "            m.weight.data.normal_(0, 0.02)\n",
        "            m.bias.data.zero_()\n",
        "        elif isinstance(m, nn.ConvTranspose2d):\n",
        "            m.weight.data.normal_(0, 0.02)\n",
        "            m.bias.data.zero_()\n",
        "        elif isinstance(m, nn.Linear):\n",
        "            m.weight.data.normal_(0, 0.02)\n",
        "            m.bias.data.zero_()"
      ],
      "execution_count": 4,
      "outputs": []
    },
    {
      "cell_type": "code",
      "metadata": {
        "id": "Zsrvh6Ruw3L9"
      },
      "source": [
        "def visualize_results(gan):\n",
        "      sample_z_ = torch.rand((10, gan.z_dim)).cuda()\n",
        "      samples = gan.G(sample_z_)\n",
        "      samples = samples.cpu().data.numpy().transpose(0, 2, 3, 1)\n",
        "      samples = (samples + 1) / 2\n",
        "      plt.figure(figsize=((1,10)))\n",
        "      fig,ax = plt.subplots(1,10)\n",
        "      for i in range(10):\n",
        "          s=ax[i].imshow(np.squeeze(samples[i,]))\n",
        "          s=ax[i].get_xaxis().set_visible(False)\n",
        "          s=ax[i].get_yaxis().set_visible(False)\n",
        "      s=plt.show()"
      ],
      "execution_count": 5,
      "outputs": []
    },
    {
      "cell_type": "code",
      "metadata": {
        "id": "6DEvIxxCsmBS"
      },
      "source": [
        "from scipy.sparse import linalg\n",
        "\n",
        "def get_eigenvectors(model, loss, dataloader):\n",
        "    # Adds up the number of weights in the model\n",
        "    num_params = sum(p.numel() for p in model.parameters())\n",
        "\n",
        "    hv = HessianVector(model=model, \n",
        "                       dataloader=dataloader, \n",
        "                       loss=loss)\n",
        "    \n",
        "    A = linalg.LinearOperator((num_params,num_params), matvec=lambda v: hv.calculate(torch.tensor(v).float()))\n",
        "\n",
        "    print(\"\\tGot eigenvectors\", A.shape)\n",
        "    # Gets 'k' with the Largest (algebraic) eigenvalues\n",
        "    vals, vecs = linalg.eigsh(A, k=2, mode='LA')\n",
        "\n",
        "    print(\"\\tEigenvalues are {:.2f} and {:.2f}\".format(vals[0],vals[1]))"
      ],
      "execution_count": 6,
      "outputs": []
    },
    {
      "cell_type": "markdown",
      "metadata": {
        "id": "kAJHsVddd4_F"
      },
      "source": [
        "# Calculates the Eigenvalues of the Discriminator\n",
        "\n",
        "\n",
        "[linalg.eigsh](https://docs.scipy.org/doc/scipy/reference/generated/scipy.sparse.linalg.eigsh.html)"
      ]
    },
    {
      "cell_type": "code",
      "metadata": {
        "id": "0-rhoEvbQYAJ"
      },
      "source": [
        "def get_d_eigenvectors(D, G, loss, dataloader):\n",
        "\n",
        "    num_params = sum(p.numel() for p in D.parameters())\n",
        "\n",
        "    hv = HessianVector(model=D, \n",
        "                       dataloader=dataloader, \n",
        "                       loss=loss)\n",
        "    \n",
        "    A = linalg.LinearOperator((num_params,num_params), matvec=lambda v: hv.calculate(torch.tensor(v).float()))\n",
        "\n",
        "    print(\"\\tGot eigenvectors\", A.shape)\n",
        "    # Gets 'k' with the Largest (algebraic) eigenvalues\n",
        "    vals, vecs = linalg.eigsh(A, k=2, mode='LA')\n",
        "\n",
        "    print(\"\\tEigenvalues are {:.2f} and {:.2f}\".format(vals[0],vals[1]))"
      ],
      "execution_count": 7,
      "outputs": []
    },
    {
      "cell_type": "markdown",
      "metadata": {
        "id": "Tptp9JXltklf"
      },
      "source": [
        "# Hessian Vector Class\n",
        "\n",
        "\n",
        "\n",
        "*   scipy.sparse.linalg.LinearOperator\n",
        "  *   [Docs](https://docs.scipy.org/doc/scipy/reference/generated/scipy.sparse.linalg.LinearOperator.html)\n",
        "\n"
      ]
    },
    {
      "cell_type": "code",
      "metadata": {
        "id": "_S6BZlQHtkJP"
      },
      "source": [
        "class HessianVector():\n",
        "\n",
        "    def __init__(self, model, dataloader, loss, percentage=0.2):\n",
        "        self.size = int(sum(param.numel() for param in model.parameters()))\n",
        "        self.grad_vec = torch.zeros(self.size)\n",
        "        self.percentage = percentage\n",
        "        self.dataloader = dataloader\n",
        "        self.model = model\n",
        "        self.loss = loss\n",
        "\n",
        "\n",
        "    def calculate(self, vector):\n",
        "        full_hessian = None\n",
        "        # Place vector on the GPU\n",
        "        vector = vector.cuda()\n",
        "\n",
        "        grad_vec = None\n",
        "\n",
        "        batch_grad = self.prepare_grad()\n",
        "\n",
        "        #print(\"Batch Shape:\", batch_grad.shape)\n",
        "\n",
        "        self.zero_grad()\n",
        "        # Take the second gradient\n",
        "        grad_grad = torch.autograd.grad(batch_grad, self.model.parameters(), grad_outputs=vector, only_inputs=True, retain_graph=True)\n",
        "        # Concatentate the results over the different components of the network\n",
        "        hessian_vec_prod = torch.cat([g.contiguous().view(-1) for g in grad_grad])\n",
        "        # Adds/Sets Full Hessian\n",
        "        if full_hessian is not None:\n",
        "            full_hessian += hessian_vec_prod\n",
        "        else:\n",
        "            full_hessian = hessian_vec_prod\n",
        "\n",
        "        # Hessian must be returned on the CPU\n",
        "        return full_hessian.cpu()\n",
        "\n",
        "    def zero_grad(self):\n",
        "        \"\"\"\n",
        "        Zeros out the gradient info for each parameters and vectorize\n",
        "        \"\"\"\n",
        "\n",
        "        for p in self.model.parameters():\n",
        "            if p.grad is not None:\n",
        "                p.grad.data.zero_()\n",
        "\n",
        "\n",
        "    def prepare_grad(self):\n",
        "\n",
        "\n",
        "        grad_vec = None\n",
        "\n",
        "        grad_dict = torch.autograd.grad(self.loss, self.model.parameters(), create_graph=True, retain_graph=True)\n",
        "        grad_vec = torch.cat([g.contiguous().view(-1) for g in grad_dict])\n",
        "        self.grad_vec = grad_vec\n",
        "        return self.grad_vec\n"
      ],
      "execution_count": 8,
      "outputs": []
    },
    {
      "cell_type": "markdown",
      "metadata": {
        "id": "k_jzg_VB0VHj"
      },
      "source": [
        "# Generator and Discriminator class definition"
      ]
    },
    {
      "cell_type": "code",
      "metadata": {
        "id": "EAhXVtAo0USV"
      },
      "source": [
        "class Generator(nn.Module):\n",
        "    def __init__(self, input_dim=100, output_dim=1, input_size=32, base_size=64):\n",
        "        super(Generator, self).__init__()  \n",
        "        self.input_dim = input_dim\n",
        "        self.output_dim = output_dim\n",
        "        self.input_size = 28\n",
        "        self.base_size = base_size    \n",
        "\n",
        "\n",
        "        # self.fc1 = nn.Linear(self.input_dim, self.base_size)\n",
        "        # self.fc2 = nn.Linear(self.fc1.out_features, self.fc1.out_features*2)\n",
        "        # self.fc3 = nn.Linear(self.fc2.out_features, self.fc2.out_features*2)\n",
        "        # self.fc4 = nn.Linear(self.fc3.out_features, self.output_dim * self.input_size * self.input_size)\n",
        "\n",
        "        self.fc = nn.Sequential(\n",
        "            nn.Linear(self.input_dim, 1024),\n",
        "            nn.BatchNorm1d(1024),\n",
        "            nn.ReLU(),\n",
        "            nn.Linear(1024, 2*self.base_size * (self.input_size // 4) * (self.input_size // 4)),\n",
        "            nn.BatchNorm1d(2*self.base_size * (self.input_size // 4) * (self.input_size // 4)),\n",
        "            nn.ReLU(),\n",
        "        )\n",
        "\n",
        "        self.deconv = nn.Sequential(\n",
        "            nn.ConvTranspose2d(2*self.base_size, self.base_size, 4, 2, 1),\n",
        "            nn.BatchNorm2d(self.base_size),\n",
        "            nn.ReLU(),\n",
        "            nn.ConvTranspose2d(self.base_size, self.output_dim, 4, 2, 1),\n",
        "            nn.Tanh(),\n",
        "        )\n",
        "\n",
        "        initialize_weights(self)\n",
        "    \n",
        "    # forward method\n",
        "    def forward(self, x): \n",
        "\n",
        "        # x = F.leaky_relu(self.fc1(x), 0.2)\n",
        "        # x = F.leaky_relu(self.fc2(x), 0.2)\n",
        "        # x = F.leaky_relu(self.fc3(x), 0.2)\n",
        "        # x = torch.tanh(self.fc4(x))\n",
        "        # x = x.view(-1, self.output_dim, self.input_size, self.input_size)\n",
        "        # return x\n",
        "\n",
        "        x = self.fc(x)\n",
        "        x = x.view(-1, 2*self.base_size, (self.input_size // 4), (self.input_size // 4))\n",
        "        x = self.deconv(x)\n",
        "\n",
        "        return x\n",
        "    \n",
        "class Discriminator(nn.Module):\n",
        "    def __init__(self, input_dim=1, output_dim=1, input_size=32, base_size=64):\n",
        "        super(Discriminator, self).__init__()\n",
        "        self.input_dim = input_dim\n",
        "        self.output_dim = output_dim\n",
        "        self.input_size = input_size\n",
        "        self.base_size = base_size\n",
        "\n",
        "        # self.fc1 = nn.Linear(self.input_size * self.input_size, self.base_size)\n",
        "        # self.fc2 = nn.Linear(self.fc1.out_features, self.fc1.out_features//2)\n",
        "        # self.fc3 = nn.Linear(self.fc2.out_features, self.fc2.out_features//2)\n",
        "        # self.fc4 = nn.Linear(self.fc3.out_features, self.output_dim)\n",
        "\n",
        "        self.conv = nn.Sequential(\n",
        "            nn.Conv2d(self.input_dim, self.base_size, 4, 2, 1),\n",
        "            nn.LeakyReLU(0.2),\n",
        "            nn.Conv2d(self.base_size, 2*self.base_size, 4, 2, 1),\n",
        "            nn.BatchNorm2d(2*self.base_size),\n",
        "            nn.LeakyReLU(0.2),\n",
        "        )\n",
        "        self.fc = nn.Sequential(\n",
        "            nn.Linear(2*self.base_size * (self.input_size // 4) * (self.input_size // 4), 1024),\n",
        "            nn.BatchNorm1d(1024),\n",
        "            nn.LeakyReLU(0.2),\n",
        "            nn.Linear(1024, self.output_dim),\n",
        "            nn.Sigmoid(),\n",
        "        )\n",
        "\n",
        "        initialize_weights(self)\n",
        "    \n",
        "    # forward method\n",
        "    def forward(self, x):\n",
        "\n",
        "        # x = x.view(-1, self.input_size * self.input_size)\n",
        "        # x = F.leaky_relu(self.fc1(x), 0.2)\n",
        "        # x = F.dropout(x, 0.3)\n",
        "        # x = F.leaky_relu(self.fc2(x), 0.2)\n",
        "        # x = F.dropout(x, 0.3)\n",
        "        # x = F.leaky_relu(self.fc3(x), 0.2)\n",
        "        # x = F.dropout(x, 0.3)\n",
        "        # return torch.sigmoid(self.fc4(x))\n",
        "\n",
        "        x = self.conv(x)\n",
        "        x = x.view(-1, 2*self.base_size * (self.input_size // 4) * (self.input_size // 4))\n",
        "        x = self.fc(x)\n",
        "\n",
        "        return x"
      ],
      "execution_count": 9,
      "outputs": []
    },
    {
      "cell_type": "markdown",
      "metadata": {
        "id": "5PgTyYPe0qhu"
      },
      "source": [
        "# Construction of GAN model\n",
        "\n",
        "[Modifying gradients in PyTorch](https://discuss.pytorch.org/t/how-to-modify-the-gradient-manually/7483)"
      ]
    },
    {
      "cell_type": "code",
      "metadata": {
        "id": "SUZu_Ztd0uD3"
      },
      "source": [
        "class GAN():\n",
        "    def __init__(self,params):\n",
        "        # parameters\n",
        "        self.epoch = params['max_epochs']\n",
        "        self.sample_num = 100\n",
        "        self.batch_size = 300\n",
        "        self.input_size = 28\n",
        "        self.z_dim = params['z_dim']\n",
        "        self.base_size = params['base_size']\n",
        "\n",
        "        # load dataset\n",
        "        self.data_loader = torch.utils.data.DataLoader(train_dataset, \n",
        "                                               batch_size=self.batch_size, \n",
        "                                               shuffle=True)\n",
        "        self.test_loader = torch.utils.data.DataLoader(test_dataset, \n",
        "                                               batch_size=self.batch_size, \n",
        "                                               shuffle=True)\n",
        "        data = self.data_loader.__iter__().__next__()[0]\n",
        "\n",
        "        #mnist_dim = data.shape[1] * data.shape[2]\n",
        "\n",
        "        #print(data.shape)\n",
        "        #self.data_width = data.shape[2]\n",
        "        #self.data_height = data.shape[3]\n",
        "\n",
        "        # initialization of the generator and discriminator\n",
        "        self.G = Generator(\n",
        "            input_dim=self.z_dim,       # 16\n",
        "            output_dim=data.shape[1],   # 1\n",
        "            input_size=self.input_size, # 28\n",
        "            base_size=self.base_size    # 64\n",
        "            ).cuda()\n",
        "\n",
        "        self.D = Discriminator(\n",
        "            input_dim=data.shape[1],    \n",
        "            output_dim=1,\n",
        "            input_size=self.input_size, \n",
        "            base_size=self.base_size\n",
        "            ).cuda()\n",
        "\n",
        "        #print(\"Encoder\", data.shape[1], self.input_size, self.base_size)\n",
        "        #self.E = encoder(input_dim=data.shape[1], output_dim=self.z_dim, input_size=self.input_size, base_size=self.base_size).cuda()\n",
        "        #self.G_optimizer = optim.SGD(self.G.parameters(), lr=params['lr_g'])\n",
        "        #self.D_optimizer = optim.SGD(self.D.parameters(), lr=params['lr_d'])\n",
        "        self.G_optimizer = optim.Adam(self.G.parameters(), lr=params['lr_g'], betas=(params['beta1'], params['beta2']))\n",
        "        self.D_optimizer = optim.Adam(self.D.parameters(), lr=params['lr_d'], betas=(params['beta1'], params['beta2']))\n",
        "        #self.E_optimizer = optim.Adam(self.E.parameters(), lr=1e-2, weight_decay=1e-4)\n",
        "        \n",
        "        # initialization of the loss function\n",
        "\n",
        "        self.BCE_loss = nn.BCELoss().cuda()\n",
        "        #self.smooth_loss = nn.SmoothL1Loss().cuda()\n",
        "        \n",
        "        # Gettng a batch of noise to generate the fake data\n",
        "        self.sample_z_ = torch.rand((self.batch_size, self.z_dim)).cuda()\n",
        "\n",
        "        # Function to train the GAN, where you alternate between the training of the genenator and discriminator\n",
        "#--------------------------------------------------------------------------------------------------------\n",
        "\n",
        "    def train(self):\n",
        "\n",
        "       # Setting empty arrays for storing the losses\n",
        "\n",
        "        Ninner = 1\n",
        "        self.train_hist = {}\n",
        "        self.train_hist['D_loss'] = []\n",
        "        self.train_hist['G_loss'] = []\n",
        "\n",
        "        # Setting up the labels for real and fake images\n",
        "        #self.y_real_, self.y_fake_ = torch.ones(self.batch_size, 1).cuda(), torch.zeros(self.batch_size, 1).cuda()\n",
        "        self.y_real_, self.y_fake_ = torch.ones(self.batch_size, 1).fill_(0.9).type(torch.float32).cuda(), torch.zeros(self.batch_size, 1).fill_(0.1).type(torch.float32).cuda()\n",
        "        # print(self.y_real_.shape)\n",
        "        self.y_real_ = self.y_real_ + (torch.randn(self.y_real_.shape)*0.03).cuda()\n",
        "        self.y_fake_ = self.y_fake_ + (torch.randn(self.y_fake_.shape)*0.03).cuda()\n",
        "\n",
        "        print('training start!!')\n",
        "\n",
        "        randn_var = 0.05\n",
        "        randn_mean = 0.00\n",
        "\n",
        "        # Epoch loops\n",
        "\n",
        "        for epoch in range(self.epoch):\n",
        "            epoch_start_time = time.time()\n",
        "            print(\"Epoch:\", epoch+1)\n",
        "\n",
        "            for iter, (x_, _) in enumerate(self.data_loader):\n",
        "                if iter == self.data_loader.dataset.__len__() // self.batch_size:\n",
        "                    break\n",
        "\n",
        "                # Generate random noise to push through the generator   \n",
        "\n",
        "                z_ = torch.rand((self.batch_size, self.z_dim))\n",
        "                x_, z_ = x_.cuda(), z_.cuda()\n",
        "\n",
        "                # YOUR CODE HERE\n",
        "                #--------------------\n",
        "\n",
        "                # update D network using \n",
        "                # 1. Set optimizer gradient to zero\n",
        "                self.D_optimizer.zero_grad()\n",
        "                # 2. Set discriminator losses on real and fake data\n",
        "                x_ = x_ + torch.normal(mean=randn_mean, std=randn_var, size=x_.shape).cuda()\n",
        "                #x_ = x_ + (torch.randn(x_.shape)*randn_var + randn_mean).cuda() # Adding random noise to input images\n",
        "                D_real = self.D(x_)\n",
        "                D_real_loss = self.BCE_loss(D_real, self.y_real_)\n",
        "\n",
        "                z_ = z_ + torch.normal(mean=randn_mean, std=randn_var, size=z_.shape).cuda()\n",
        "\n",
        "                G_ = self.G(z_)\n",
        "                D_fake = self.D(G_)\n",
        "                D_fake_loss = self.BCE_loss(D_fake, self.y_fake_)\n",
        "                # 3. Do back propagation to compute gradients\n",
        "                D_loss = D_real_loss + D_fake_loss\n",
        "\n",
        "                if (iter == 0) and (((epoch + 1) % 10) == 0):\n",
        "                    get_eigenvectors(self.D, D_loss, self.data_loader)\n",
        "\n",
        "                D_loss.backward()\n",
        "\n",
        "                # if iter == 0:\n",
        "                #     print(\"D eigen vectors:\")\n",
        "                #     get_eigenvectors(self.D, self.data_loader, self.BCE_loss)\n",
        "\n",
        "\n",
        "                # 4. Make a step of D_optimizer\n",
        "                self.D_optimizer.step()\n",
        "                # 5. Set the current loss in self.train_hist['D_loss]\n",
        "                self.train_hist['D_loss'].append(D_loss.item())\n",
        "                \n",
        "                # update G network using \n",
        "                # 1. Set optimizer gradient to zero\n",
        "                self.G_optimizer.zero_grad()\n",
        "                # 2. Set generator losses on fake data\n",
        "                G_ = self.G(z_)\n",
        "                D_fake_ = self.D(G_)\n",
        "                G_loss = self.BCE_loss(D_fake_, self.y_real_)\n",
        "                if (iter == 0) and (((epoch + 1) % 10) == 0):\n",
        "                    get_eigenvectors(self.G, G_loss, self.data_loader)\n",
        "                # 3. Do back propagation to compute gradients\n",
        "                G_loss.backward()\n",
        "\n",
        "                # if iter == 0:\n",
        "                #     print(\"G eigen vectors:\")\n",
        "                #     get_eigenvectors(self.G, self.data_loader, self.BCE_loss)\n",
        "\n",
        "                # 4. Make a step of G_optimizer\n",
        "                self.G_optimizer.step()\n",
        "                # 5. Set the current loss in self.train_hist['G_loss]    \n",
        "                self.train_hist['G_loss'].append(G_loss.item())\n",
        "\n",
        "                # Print iterations and losses\n",
        "                \n",
        "                if ((iter + 1) % 50) == 0:\n",
        "                  print(\"Epoch: [%2d] [%4d/%4d] D_loss: %.8f, G_loss: %.8f\" %\n",
        "                          ((epoch + 1), (iter + 1), self.data_loader.dataset.__len__() // self.batch_size, D_loss.item(), G_loss.item()))\n",
        "                \n",
        "            # Visualize results\n",
        "            if ((epoch + 1) % 10) == 0:\n",
        "                with torch.no_grad():\n",
        "                    visualize_results(self)\n",
        "                #visualize_gan_optim_loss(self)\n",
        "\n",
        "        print(\"Training finished!\")"
      ],
      "execution_count": 10,
      "outputs": []
    },
    {
      "cell_type": "markdown",
      "metadata": {
        "id": "QlpS9IeX5Kac"
      },
      "source": [
        "# Training the GAN"
      ]
    },
    {
      "cell_type": "code",
      "metadata": {
        "colab": {
          "base_uri": "https://localhost:8080/",
          "height": 1000
        },
        "id": "xKeKUuUR5JuM",
        "outputId": "d295b6a7-c6d6-4afb-cc9d-7fa4967246c2"
      },
      "source": [
        "params = {'beta1': 0.5, 'beta2': 0.999,'lr_g':0.0002,'lr_d':0.0002,'max_epochs':100}\n",
        "params['z_dim'] = 2\n",
        "params['base_size'] = 64\n",
        "\n",
        "gan = GAN(params)\n",
        "gan.train()"
      ],
      "execution_count": 11,
      "outputs": [
        {
          "output_type": "stream",
          "text": [
            "training start!!\n",
            "Epoch: 1\n",
            "Epoch: [ 1] [  50/ 200] D_loss: 1.30144525, G_loss: 0.86673647\n",
            "Epoch: [ 1] [ 100/ 200] D_loss: 1.27378774, G_loss: 1.08803821\n",
            "Epoch: [ 1] [ 150/ 200] D_loss: 1.10381305, G_loss: 1.03722310\n",
            "Epoch: [ 1] [ 200/ 200] D_loss: 1.07277226, G_loss: 1.37352848\n",
            "Epoch: 2\n",
            "Epoch: [ 2] [  50/ 200] D_loss: 1.02451038, G_loss: 1.35779297\n",
            "Epoch: [ 2] [ 100/ 200] D_loss: 1.04174900, G_loss: 1.22604895\n",
            "Epoch: [ 2] [ 150/ 200] D_loss: 0.90077770, G_loss: 1.31574941\n",
            "Epoch: [ 2] [ 200/ 200] D_loss: 1.02602291, G_loss: 1.42858386\n",
            "Epoch: 3\n",
            "Epoch: [ 3] [  50/ 200] D_loss: 1.17952633, G_loss: 1.29936111\n",
            "Epoch: [ 3] [ 100/ 200] D_loss: 1.03397715, G_loss: 1.14715922\n",
            "Epoch: [ 3] [ 150/ 200] D_loss: 0.83280396, G_loss: 1.32513797\n",
            "Epoch: [ 3] [ 200/ 200] D_loss: 0.98762059, G_loss: 1.26054716\n",
            "Epoch: 4\n",
            "Epoch: [ 4] [  50/ 200] D_loss: 0.90247428, G_loss: 1.32337868\n",
            "Epoch: [ 4] [ 100/ 200] D_loss: 0.89283186, G_loss: 1.29806280\n",
            "Epoch: [ 4] [ 150/ 200] D_loss: 0.85827661, G_loss: 1.37142265\n",
            "Epoch: [ 4] [ 200/ 200] D_loss: 0.83465469, G_loss: 1.41883492\n",
            "Epoch: 5\n",
            "Epoch: [ 5] [  50/ 200] D_loss: 0.81636012, G_loss: 1.37451017\n",
            "Epoch: [ 5] [ 100/ 200] D_loss: 0.94403815, G_loss: 1.36235070\n",
            "Epoch: [ 5] [ 150/ 200] D_loss: 0.93062299, G_loss: 1.43087316\n",
            "Epoch: [ 5] [ 200/ 200] D_loss: 0.95045686, G_loss: 1.41789281\n",
            "Epoch: 6\n",
            "Epoch: [ 6] [  50/ 200] D_loss: 0.97690141, G_loss: 1.26598167\n",
            "Epoch: [ 6] [ 100/ 200] D_loss: 1.00640440, G_loss: 1.33497405\n",
            "Epoch: [ 6] [ 150/ 200] D_loss: 1.04705024, G_loss: 1.30615580\n",
            "Epoch: [ 6] [ 200/ 200] D_loss: 0.99232376, G_loss: 1.17222536\n",
            "Epoch: 7\n",
            "Epoch: [ 7] [  50/ 200] D_loss: 0.98593903, G_loss: 1.19317472\n",
            "Epoch: [ 7] [ 100/ 200] D_loss: 1.07741594, G_loss: 1.19109058\n",
            "Epoch: [ 7] [ 150/ 200] D_loss: 1.03100455, G_loss: 1.20760190\n",
            "Epoch: [ 7] [ 200/ 200] D_loss: 1.00822592, G_loss: 1.21228981\n",
            "Epoch: 8\n",
            "Epoch: [ 8] [  50/ 200] D_loss: 1.01982307, G_loss: 1.20319831\n",
            "Epoch: [ 8] [ 100/ 200] D_loss: 1.09645653, G_loss: 1.35217762\n",
            "Epoch: [ 8] [ 150/ 200] D_loss: 1.06990528, G_loss: 1.19385099\n",
            "Epoch: [ 8] [ 200/ 200] D_loss: 1.05047560, G_loss: 1.26394904\n",
            "Epoch: 9\n",
            "Epoch: [ 9] [  50/ 200] D_loss: 1.01702154, G_loss: 1.16357017\n",
            "Epoch: [ 9] [ 100/ 200] D_loss: 1.01630640, G_loss: 1.23027515\n",
            "Epoch: [ 9] [ 150/ 200] D_loss: 1.01039958, G_loss: 1.16918838\n",
            "Epoch: [ 9] [ 200/ 200] D_loss: 0.99783468, G_loss: 1.29587686\n",
            "Epoch: 10\n",
            "\tGot eigenvectors (6559169, 6559169)\n",
            "\tEigenvalues are 1092.06 and 1833.83\n",
            "\tGot eigenvectors (6578753, 6578753)\n",
            "\tEigenvalues are 92.39 and 118.66\n",
            "Epoch: [10] [  50/ 200] D_loss: 1.01196945, G_loss: 1.26326752\n",
            "Epoch: [10] [ 100/ 200] D_loss: 1.02795005, G_loss: 1.29114401\n",
            "Epoch: [10] [ 150/ 200] D_loss: 1.03282547, G_loss: 1.21299064\n",
            "Epoch: [10] [ 200/ 200] D_loss: 1.24425876, G_loss: 1.11911190\n"
          ],
          "name": "stdout"
        },
        {
          "output_type": "display_data",
          "data": {
            "text/plain": [
              "<Figure size 72x720 with 0 Axes>"
            ]
          },
          "metadata": {
            "tags": []
          }
        },
        {
          "output_type": "display_data",
          "data": {
            "image/png": "[encoded data removed]",
            "text/plain": [
              "<Figure size 432x288 with 10 Axes>"
            ]
          },
          "metadata": {
            "tags": []
          }
        },
        {
          "output_type": "stream",
          "text": [
            "Epoch: 11\n",
            "Epoch: [11] [  50/ 200] D_loss: 1.02114129, G_loss: 1.30855536\n",
            "Epoch: [11] [ 100/ 200] D_loss: 1.02753043, G_loss: 1.26080263\n",
            "Epoch: [11] [ 150/ 200] D_loss: 0.99938756, G_loss: 1.32135069\n",
            "Epoch: [11] [ 200/ 200] D_loss: 0.97624892, G_loss: 1.22822928\n",
            "Epoch: 12\n",
            "Epoch: [12] [  50/ 200] D_loss: 0.98924387, G_loss: 1.27592373\n",
            "Epoch: [12] [ 100/ 200] D_loss: 0.98661327, G_loss: 1.47168136\n",
            "Epoch: [12] [ 150/ 200] D_loss: 0.98710883, G_loss: 1.27122986\n",
            "Epoch: [12] [ 200/ 200] D_loss: 1.07716084, G_loss: 1.32564211\n",
            "Epoch: 13\n",
            "Epoch: [13] [  50/ 200] D_loss: 0.99043936, G_loss: 1.20090139\n",
            "Epoch: [13] [ 100/ 200] D_loss: 1.03091097, G_loss: 1.41239619\n",
            "Epoch: [13] [ 150/ 200] D_loss: 1.03095388, G_loss: 1.40871894\n",
            "Epoch: [13] [ 200/ 200] D_loss: 1.01713347, G_loss: 1.28941059\n",
            "Epoch: 14\n",
            "Epoch: [14] [  50/ 200] D_loss: 0.93528962, G_loss: 1.20152819\n",
            "Epoch: [14] [ 100/ 200] D_loss: 0.96683162, G_loss: 1.29902327\n",
            "Epoch: [14] [ 150/ 200] D_loss: 1.03537083, G_loss: 1.43114638\n",
            "Epoch: [14] [ 200/ 200] D_loss: 1.04550838, G_loss: 1.35728252\n",
            "Epoch: 15\n",
            "Epoch: [15] [  50/ 200] D_loss: 0.96548301, G_loss: 1.32640302\n",
            "Epoch: [15] [ 100/ 200] D_loss: 0.96153617, G_loss: 1.36546433\n",
            "Epoch: [15] [ 150/ 200] D_loss: 1.04691958, G_loss: 1.35069954\n",
            "Epoch: [15] [ 200/ 200] D_loss: 1.03052425, G_loss: 1.37059879\n",
            "Epoch: 16\n",
            "Epoch: [16] [  50/ 200] D_loss: 1.02964211, G_loss: 1.40597498\n",
            "Epoch: [16] [ 100/ 200] D_loss: 0.98716676, G_loss: 1.43077576\n",
            "Epoch: [16] [ 150/ 200] D_loss: 1.05890727, G_loss: 1.24038815\n",
            "Epoch: [16] [ 200/ 200] D_loss: 1.02532578, G_loss: 1.38892615\n",
            "Epoch: 17\n",
            "Epoch: [17] [  50/ 200] D_loss: 0.98554015, G_loss: 1.42010951\n",
            "Epoch: [17] [ 100/ 200] D_loss: 1.06448269, G_loss: 1.37573755\n",
            "Epoch: [17] [ 150/ 200] D_loss: 1.04805720, G_loss: 1.44438815\n",
            "Epoch: [17] [ 200/ 200] D_loss: 0.95420146, G_loss: 1.35851216\n",
            "Epoch: 18\n",
            "Epoch: [18] [  50/ 200] D_loss: 1.01528692, G_loss: 1.31124640\n",
            "Epoch: [18] [ 100/ 200] D_loss: 0.99355567, G_loss: 1.33341753\n",
            "Epoch: [18] [ 150/ 200] D_loss: 0.94362426, G_loss: 1.54225504\n",
            "Epoch: [18] [ 200/ 200] D_loss: 0.91472709, G_loss: 1.38171959\n",
            "Epoch: 19\n",
            "Epoch: [19] [  50/ 200] D_loss: 0.99070549, G_loss: 1.27441168\n",
            "Epoch: [19] [ 100/ 200] D_loss: 1.03394794, G_loss: 1.04379213\n",
            "Epoch: [19] [ 150/ 200] D_loss: 0.94017416, G_loss: 1.51436675\n",
            "Epoch: [19] [ 200/ 200] D_loss: 1.01234484, G_loss: 1.27970481\n",
            "Epoch: 20\n",
            "\tGot eigenvectors (6559169, 6559169)\n",
            "\tEigenvalues are 918.96 and 1304.17\n",
            "\tGot eigenvectors (6578753, 6578753)\n",
            "\tEigenvalues are 224.12 and 257.77\n",
            "Epoch: [20] [  50/ 200] D_loss: 0.96908414, G_loss: 1.25261271\n",
            "Epoch: [20] [ 100/ 200] D_loss: 1.08305597, G_loss: 1.18481207\n",
            "Epoch: [20] [ 150/ 200] D_loss: 1.10257983, G_loss: 1.33055806\n",
            "Epoch: [20] [ 200/ 200] D_loss: 1.13163936, G_loss: 1.28284991\n"
          ],
          "name": "stdout"
        },
        {
          "output_type": "display_data",
          "data": {
            "text/plain": [
              "<Figure size 72x720 with 0 Axes>"
            ]
          },
          "metadata": {
            "tags": []
          }
        },
        {
          "output_type": "display_data",
          "data": {
            "image/png": "[encoded data removed]",
            "text/plain": [
              "<Figure size 432x288 with 10 Axes>"
            ]
          },
          "metadata": {
            "tags": []
          }
        },
        {
          "output_type": "stream",
          "text": [
            "Epoch: 21\n",
            "Epoch: [21] [  50/ 200] D_loss: 1.06926632, G_loss: 1.38064563\n",
            "Epoch: [21] [ 100/ 200] D_loss: 0.94974720, G_loss: 1.24621010\n",
            "Epoch: [21] [ 150/ 200] D_loss: 1.01845741, G_loss: 1.23976684\n",
            "Epoch: [21] [ 200/ 200] D_loss: 1.11157489, G_loss: 1.14448202\n",
            "Epoch: 22\n",
            "Epoch: [22] [  50/ 200] D_loss: 0.95637727, G_loss: 1.23511684\n",
            "Epoch: [22] [ 100/ 200] D_loss: 0.92098832, G_loss: 1.33713126\n",
            "Epoch: [22] [ 150/ 200] D_loss: 0.97165668, G_loss: 1.10003996\n",
            "Epoch: [22] [ 200/ 200] D_loss: 0.99093866, G_loss: 1.48599863\n",
            "Epoch: 23\n",
            "Epoch: [23] [  50/ 200] D_loss: 0.94449496, G_loss: 1.31444585\n",
            "Epoch: [23] [ 100/ 200] D_loss: 1.00817275, G_loss: 1.55020857\n",
            "Epoch: [23] [ 150/ 200] D_loss: 0.92602265, G_loss: 1.46638799\n",
            "Epoch: [23] [ 200/ 200] D_loss: 0.99099851, G_loss: 1.28918135\n",
            "Epoch: 24\n",
            "Epoch: [24] [  50/ 200] D_loss: 0.94129902, G_loss: 1.46401107\n",
            "Epoch: [24] [ 100/ 200] D_loss: 1.00758183, G_loss: 1.47438431\n",
            "Epoch: [24] [ 150/ 200] D_loss: 0.95735002, G_loss: 1.46192777\n",
            "Epoch: [24] [ 200/ 200] D_loss: 0.93674159, G_loss: 1.37986386\n",
            "Epoch: 25\n",
            "Epoch: [25] [  50/ 200] D_loss: 1.03840327, G_loss: 1.38012338\n",
            "Epoch: [25] [ 100/ 200] D_loss: 0.92168736, G_loss: 1.81218636\n",
            "Epoch: [25] [ 150/ 200] D_loss: 1.05796671, G_loss: 1.84496486\n",
            "Epoch: [25] [ 200/ 200] D_loss: 0.96000075, G_loss: 1.40471232\n",
            "Epoch: 26\n",
            "Epoch: [26] [  50/ 200] D_loss: 1.07254612, G_loss: 1.70907581\n",
            "Epoch: [26] [ 100/ 200] D_loss: 0.90388453, G_loss: 1.57419372\n",
            "Epoch: [26] [ 150/ 200] D_loss: 0.94945121, G_loss: 1.33766627\n",
            "Epoch: [26] [ 200/ 200] D_loss: 1.08424115, G_loss: 1.72890186\n",
            "Epoch: 27\n",
            "Epoch: [27] [  50/ 200] D_loss: 0.98950738, G_loss: 1.22517109\n",
            "Epoch: [27] [ 100/ 200] D_loss: 0.96658301, G_loss: 1.48460329\n",
            "Epoch: [27] [ 150/ 200] D_loss: 0.96162981, G_loss: 1.27487016\n",
            "Epoch: [27] [ 200/ 200] D_loss: 0.92945445, G_loss: 1.43692219\n",
            "Epoch: 28\n",
            "Epoch: [28] [  50/ 200] D_loss: 0.98225069, G_loss: 1.36714721\n",
            "Epoch: [28] [ 100/ 200] D_loss: 0.92557013, G_loss: 1.46576953\n",
            "Epoch: [28] [ 150/ 200] D_loss: 0.94235361, G_loss: 1.39486861\n",
            "Epoch: [28] [ 200/ 200] D_loss: 0.93923116, G_loss: 1.47714663\n",
            "Epoch: 29\n",
            "Epoch: [29] [  50/ 200] D_loss: 1.01056993, G_loss: 1.54553461\n",
            "Epoch: [29] [ 100/ 200] D_loss: 0.95149326, G_loss: 1.13679564\n",
            "Epoch: [29] [ 150/ 200] D_loss: 0.94587314, G_loss: 1.29533958\n",
            "Epoch: [29] [ 200/ 200] D_loss: 0.95037794, G_loss: 1.52635264\n",
            "Epoch: 30\n",
            "\tGot eigenvectors (6559169, 6559169)\n",
            "\tEigenvalues are 1965.19 and 7151.60\n",
            "\tGot eigenvectors (6578753, 6578753)\n",
            "\tEigenvalues are -185.51 and 281.55\n",
            "Epoch: [30] [  50/ 200] D_loss: 0.94132280, G_loss: 1.51056361\n",
            "Epoch: [30] [ 100/ 200] D_loss: 0.91464865, G_loss: 1.38612306\n",
            "Epoch: [30] [ 150/ 200] D_loss: 1.01923609, G_loss: 1.19919777\n",
            "Epoch: [30] [ 200/ 200] D_loss: 0.87788808, G_loss: 1.49266255\n"
          ],
          "name": "stdout"
        },
        {
          "output_type": "display_data",
          "data": {
            "text/plain": [
              "<Figure size 72x720 with 0 Axes>"
            ]
          },
          "metadata": {
            "tags": []
          }
        },
        {
          "output_type": "display_data",
          "data": {
            "image/png": "[encoded data removed]",
            "text/plain": [
              "<Figure size 432x288 with 10 Axes>"
            ]
          },
          "metadata": {
            "tags": []
          }
        },
        {
          "output_type": "stream",
          "text": [
            "Epoch: 31\n",
            "Epoch: [31] [  50/ 200] D_loss: 0.90903020, G_loss: 1.69235504\n",
            "Epoch: [31] [ 100/ 200] D_loss: 1.01546931, G_loss: 1.16816700\n",
            "Epoch: [31] [ 150/ 200] D_loss: 0.87881947, G_loss: 1.68590832\n",
            "Epoch: [31] [ 200/ 200] D_loss: 0.83807170, G_loss: 1.56171227\n",
            "Epoch: 32\n",
            "Epoch: [32] [  50/ 200] D_loss: 0.92323804, G_loss: 1.75558615\n",
            "Epoch: [32] [ 100/ 200] D_loss: 0.86189365, G_loss: 1.47329211\n",
            "Epoch: [32] [ 150/ 200] D_loss: 0.91861975, G_loss: 1.15144777\n",
            "Epoch: [32] [ 200/ 200] D_loss: 1.09764051, G_loss: 1.43753970\n",
            "Epoch: 33\n",
            "Epoch: [33] [  50/ 200] D_loss: 0.88038319, G_loss: 1.28688061\n",
            "Epoch: [33] [ 100/ 200] D_loss: 0.92071617, G_loss: 1.28726506\n",
            "Epoch: [33] [ 150/ 200] D_loss: 0.85141301, G_loss: 1.32313859\n",
            "Epoch: [33] [ 200/ 200] D_loss: 0.86714053, G_loss: 1.51586306\n",
            "Epoch: 34\n",
            "Epoch: [34] [  50/ 200] D_loss: 0.97906375, G_loss: 1.49802125\n",
            "Epoch: [34] [ 100/ 200] D_loss: 0.99711645, G_loss: 1.80989504\n",
            "Epoch: [34] [ 150/ 200] D_loss: 0.88681197, G_loss: 1.51957357\n",
            "Epoch: [34] [ 200/ 200] D_loss: 0.85061562, G_loss: 1.38075447\n",
            "Epoch: 35\n",
            "Epoch: [35] [  50/ 200] D_loss: 0.97962385, G_loss: 1.55008662\n",
            "Epoch: [35] [ 100/ 200] D_loss: 0.90996063, G_loss: 1.32006860\n",
            "Epoch: [35] [ 150/ 200] D_loss: 0.95989013, G_loss: 1.06390750\n",
            "Epoch: [35] [ 200/ 200] D_loss: 0.87169313, G_loss: 1.44320691\n",
            "Epoch: 36\n",
            "Epoch: [36] [  50/ 200] D_loss: 0.91393751, G_loss: 1.73605716\n",
            "Epoch: [36] [ 100/ 200] D_loss: 0.98742354, G_loss: 1.67003679\n",
            "Epoch: [36] [ 150/ 200] D_loss: 0.92435116, G_loss: 1.29052842\n",
            "Epoch: [36] [ 200/ 200] D_loss: 0.92582136, G_loss: 1.40104473\n",
            "Epoch: 37\n",
            "Epoch: [37] [  50/ 200] D_loss: 0.85131848, G_loss: 1.46291959\n",
            "Epoch: [37] [ 100/ 200] D_loss: 0.96220654, G_loss: 1.74607038\n",
            "Epoch: [37] [ 150/ 200] D_loss: 0.89249945, G_loss: 1.37270272\n",
            "Epoch: [37] [ 200/ 200] D_loss: 0.83607906, G_loss: 1.77271533\n",
            "Epoch: 38\n",
            "Epoch: [38] [  50/ 200] D_loss: 0.90565383, G_loss: 1.63583493\n",
            "Epoch: [38] [ 100/ 200] D_loss: 0.97707671, G_loss: 1.23347330\n",
            "Epoch: [38] [ 150/ 200] D_loss: 0.88561058, G_loss: 1.53329229\n",
            "Epoch: [38] [ 200/ 200] D_loss: 0.91152632, G_loss: 1.62683821\n",
            "Epoch: 39\n",
            "Epoch: [39] [  50/ 200] D_loss: 0.96799105, G_loss: 1.96992767\n",
            "Epoch: [39] [ 100/ 200] D_loss: 0.86757696, G_loss: 1.71546721\n",
            "Epoch: [39] [ 150/ 200] D_loss: 1.00722456, G_loss: 1.44025052\n",
            "Epoch: [39] [ 200/ 200] D_loss: 0.91901982, G_loss: 1.52066195\n",
            "Epoch: 40\n",
            "\tGot eigenvectors (6559169, 6559169)\n",
            "\tEigenvalues are 1290.22 and 4858.34\n",
            "\tGot eigenvectors (6578753, 6578753)\n",
            "\tEigenvalues are -314.08 and -252.63\n",
            "Epoch: [40] [  50/ 200] D_loss: 0.88784456, G_loss: 1.34359562\n",
            "Epoch: [40] [ 100/ 200] D_loss: 0.91432893, G_loss: 1.67730641\n",
            "Epoch: [40] [ 150/ 200] D_loss: 0.85815394, G_loss: 1.82269192\n",
            "Epoch: [40] [ 200/ 200] D_loss: 0.85660827, G_loss: 1.59397686\n"
          ],
          "name": "stdout"
        },
        {
          "output_type": "display_data",
          "data": {
            "text/plain": [
              "<Figure size 72x720 with 0 Axes>"
            ]
          },
          "metadata": {
            "tags": []
          }
        },
        {
          "output_type": "display_data",
          "data": {
            "image/png": "[encoded data removed]",
            "text/plain": [
              "<Figure size 432x288 with 10 Axes>"
            ]
          },
          "metadata": {
            "tags": []
          }
        },
        {
          "output_type": "stream",
          "text": [
            "Epoch: 41\n",
            "Epoch: [41] [  50/ 200] D_loss: 0.96549153, G_loss: 1.17419744\n",
            "Epoch: [41] [ 100/ 200] D_loss: 0.91885078, G_loss: 1.73760581\n",
            "Epoch: [41] [ 150/ 200] D_loss: 0.85352308, G_loss: 1.69146121\n",
            "Epoch: [41] [ 200/ 200] D_loss: 0.79231775, G_loss: 1.57787728\n",
            "Epoch: 42\n",
            "Epoch: [42] [  50/ 200] D_loss: 0.80695254, G_loss: 1.77613652\n",
            "Epoch: [42] [ 100/ 200] D_loss: 0.85653895, G_loss: 1.71730578\n",
            "Epoch: [42] [ 150/ 200] D_loss: 0.83741552, G_loss: 1.45929563\n",
            "Epoch: [42] [ 200/ 200] D_loss: 0.80892837, G_loss: 1.63956046\n",
            "Epoch: 43\n",
            "Epoch: [43] [  50/ 200] D_loss: 0.80664814, G_loss: 1.94476891\n",
            "Epoch: [43] [ 100/ 200] D_loss: 0.80129570, G_loss: 1.47779500\n",
            "Epoch: [43] [ 150/ 200] D_loss: 0.82210243, G_loss: 1.94620526\n",
            "Epoch: [43] [ 200/ 200] D_loss: 0.98771435, G_loss: 1.75558209\n",
            "Epoch: 44\n",
            "Epoch: [44] [  50/ 200] D_loss: 0.83597952, G_loss: 1.46045172\n",
            "Epoch: [44] [ 100/ 200] D_loss: 0.87142384, G_loss: 1.50067616\n",
            "Epoch: [44] [ 150/ 200] D_loss: 0.85607457, G_loss: 2.00847149\n",
            "Epoch: [44] [ 200/ 200] D_loss: 0.83150840, G_loss: 1.49260664\n",
            "Epoch: 45\n",
            "Epoch: [45] [  50/ 200] D_loss: 0.86316311, G_loss: 1.56930041\n",
            "Epoch: [45] [ 100/ 200] D_loss: 0.81350040, G_loss: 1.61644769\n",
            "Epoch: [45] [ 150/ 200] D_loss: 0.81572962, G_loss: 1.45134807\n",
            "Epoch: [45] [ 200/ 200] D_loss: 0.85062718, G_loss: 1.66634166\n",
            "Epoch: 46\n",
            "Epoch: [46] [  50/ 200] D_loss: 0.79884720, G_loss: 1.60578167\n",
            "Epoch: [46] [ 100/ 200] D_loss: 0.83629668, G_loss: 2.05458164\n",
            "Epoch: [46] [ 150/ 200] D_loss: 0.81562257, G_loss: 1.84240520\n",
            "Epoch: [46] [ 200/ 200] D_loss: 0.79515278, G_loss: 1.72689867\n",
            "Epoch: 47\n",
            "Epoch: [47] [  50/ 200] D_loss: 0.84165019, G_loss: 1.84639716\n",
            "Epoch: [47] [ 100/ 200] D_loss: 0.76786172, G_loss: 1.68889475\n",
            "Epoch: [47] [ 150/ 200] D_loss: 0.82401508, G_loss: 1.57954597\n",
            "Epoch: [47] [ 200/ 200] D_loss: 0.79189217, G_loss: 1.79196560\n",
            "Epoch: 48\n",
            "Epoch: [48] [  50/ 200] D_loss: 0.82263041, G_loss: 1.31380022\n",
            "Epoch: [48] [ 100/ 200] D_loss: 0.82395995, G_loss: 1.59102690\n",
            "Epoch: [48] [ 150/ 200] D_loss: 0.76795805, G_loss: 1.77625334\n",
            "Epoch: [48] [ 200/ 200] D_loss: 0.75199318, G_loss: 1.90684938\n",
            "Epoch: 49\n",
            "Epoch: [49] [  50/ 200] D_loss: 0.84703934, G_loss: 1.58426547\n",
            "Epoch: [49] [ 100/ 200] D_loss: 0.85188460, G_loss: 1.78095865\n",
            "Epoch: [49] [ 150/ 200] D_loss: 0.81159729, G_loss: 1.80042017\n",
            "Epoch: [49] [ 200/ 200] D_loss: 0.87376159, G_loss: 1.79052818\n",
            "Epoch: 50\n",
            "\tGot eigenvectors (6559169, 6559169)\n",
            "\tEigenvalues are 1609.28 and 8776.63\n",
            "\tGot eigenvectors (6578753, 6578753)\n",
            "\tEigenvalues are -531.39 and -486.31\n",
            "Epoch: [50] [  50/ 200] D_loss: 0.92429352, G_loss: 1.91678226\n",
            "Epoch: [50] [ 100/ 200] D_loss: 0.84410769, G_loss: 1.61907566\n",
            "Epoch: [50] [ 150/ 200] D_loss: 0.76481652, G_loss: 1.63593590\n",
            "Epoch: [50] [ 200/ 200] D_loss: 0.88495529, G_loss: 1.85396957\n"
          ],
          "name": "stdout"
        },
        {
          "output_type": "display_data",
          "data": {
            "text/plain": [
              "<Figure size 72x720 with 0 Axes>"
            ]
          },
          "metadata": {
            "tags": []
          }
        },
        {
          "output_type": "display_data",
          "data": {
            "image/png": "[encoded data removed]",
            "text/plain": [
              "<Figure size 432x288 with 10 Axes>"
            ]
          },
          "metadata": {
            "tags": []
          }
        },
        {
          "output_type": "stream",
          "text": [
            "Epoch: 51\n",
            "Epoch: [51] [  50/ 200] D_loss: 0.84709299, G_loss: 1.54497707\n",
            "Epoch: [51] [ 100/ 200] D_loss: 0.78153259, G_loss: 2.11430955\n",
            "Epoch: [51] [ 150/ 200] D_loss: 0.80381811, G_loss: 1.76598966\n",
            "Epoch: [51] [ 200/ 200] D_loss: 0.81285965, G_loss: 1.36804152\n",
            "Epoch: 52\n",
            "Epoch: [52] [  50/ 200] D_loss: 0.87636817, G_loss: 1.66729999\n",
            "Epoch: [52] [ 100/ 200] D_loss: 0.77240729, G_loss: 2.16709185\n",
            "Epoch: [52] [ 150/ 200] D_loss: 0.78764987, G_loss: 1.80243409\n",
            "Epoch: [52] [ 200/ 200] D_loss: 0.78732431, G_loss: 1.60210061\n",
            "Epoch: 53\n",
            "Epoch: [53] [  50/ 200] D_loss: 0.77732420, G_loss: 1.70432222\n",
            "Epoch: [53] [ 100/ 200] D_loss: 0.83349752, G_loss: 1.79681826\n",
            "Epoch: [53] [ 150/ 200] D_loss: 0.77080870, G_loss: 1.73923421\n",
            "Epoch: [53] [ 200/ 200] D_loss: 0.78890622, G_loss: 1.57656252\n",
            "Epoch: 54\n",
            "Epoch: [54] [  50/ 200] D_loss: 0.84822798, G_loss: 1.51027393\n",
            "Epoch: [54] [ 100/ 200] D_loss: 0.84428889, G_loss: 2.11639833\n",
            "Epoch: [54] [ 150/ 200] D_loss: 0.88790727, G_loss: 2.58419132\n",
            "Epoch: [54] [ 200/ 200] D_loss: 0.79623044, G_loss: 1.86224413\n",
            "Epoch: 55\n",
            "Epoch: [55] [  50/ 200] D_loss: 0.75195867, G_loss: 1.90904176\n",
            "Epoch: [55] [ 100/ 200] D_loss: 0.78842425, G_loss: 1.73476529\n",
            "Epoch: [55] [ 150/ 200] D_loss: 0.73427361, G_loss: 1.96334660\n",
            "Epoch: [55] [ 200/ 200] D_loss: 0.77998030, G_loss: 1.73509812\n",
            "Epoch: 56\n",
            "Epoch: [56] [  50/ 200] D_loss: 0.79890734, G_loss: 1.61933231\n",
            "Epoch: [56] [ 100/ 200] D_loss: 0.89143258, G_loss: 2.42952585\n",
            "Epoch: [56] [ 150/ 200] D_loss: 0.80941236, G_loss: 1.82000148\n",
            "Epoch: [56] [ 200/ 200] D_loss: 0.75255716, G_loss: 1.66795313\n",
            "Epoch: 57\n",
            "Epoch: [57] [  50/ 200] D_loss: 0.76418459, G_loss: 1.70163763\n",
            "Epoch: [57] [ 100/ 200] D_loss: 0.80301225, G_loss: 1.45707095\n",
            "Epoch: [57] [ 150/ 200] D_loss: 0.74842370, G_loss: 1.90890551\n",
            "Epoch: [57] [ 200/ 200] D_loss: 0.74741858, G_loss: 2.02407074\n",
            "Epoch: 58\n",
            "Epoch: [58] [  50/ 200] D_loss: 0.76682979, G_loss: 1.66433501\n",
            "Epoch: [58] [ 100/ 200] D_loss: 0.85050893, G_loss: 1.74944997\n",
            "Epoch: [58] [ 150/ 200] D_loss: 0.81098509, G_loss: 1.49794888\n",
            "Epoch: [58] [ 200/ 200] D_loss: 0.76647282, G_loss: 1.69409609\n",
            "Epoch: 59\n",
            "Epoch: [59] [  50/ 200] D_loss: 0.74426752, G_loss: 1.58437324\n",
            "Epoch: [59] [ 100/ 200] D_loss: 0.73966223, G_loss: 2.10149813\n",
            "Epoch: [59] [ 150/ 200] D_loss: 0.93561506, G_loss: 1.98014736\n",
            "Epoch: [59] [ 200/ 200] D_loss: 0.76309091, G_loss: 1.89939117\n",
            "Epoch: 60\n",
            "\tGot eigenvectors (6559169, 6559169)\n",
            "\tEigenvalues are 3354.83 and 17055.37\n",
            "\tGot eigenvectors (6578753, 6578753)\n",
            "\tEigenvalues are -457.76 and -372.44\n",
            "Epoch: [60] [  50/ 200] D_loss: 0.73586738, G_loss: 1.73981607\n",
            "Epoch: [60] [ 100/ 200] D_loss: 0.77708936, G_loss: 1.80748808\n",
            "Epoch: [60] [ 150/ 200] D_loss: 0.94714725, G_loss: 2.38329768\n",
            "Epoch: [60] [ 200/ 200] D_loss: 0.81588793, G_loss: 1.90601206\n"
          ],
          "name": "stdout"
        },
        {
          "output_type": "display_data",
          "data": {
            "text/plain": [
              "<Figure size 72x720 with 0 Axes>"
            ]
          },
          "metadata": {
            "tags": []
          }
        },
        {
          "output_type": "display_data",
          "data": {
            "image/png": "[encoded data removed]",
            "text/plain": [
              "<Figure size 432x288 with 10 Axes>"
            ]
          },
          "metadata": {
            "tags": []
          }
        },
        {
          "output_type": "stream",
          "text": [
            "Epoch: 61\n",
            "Epoch: [61] [  50/ 200] D_loss: 0.77870488, G_loss: 1.62734747\n",
            "Epoch: [61] [ 100/ 200] D_loss: 0.73825622, G_loss: 1.85433662\n",
            "Epoch: [61] [ 150/ 200] D_loss: 0.86489916, G_loss: 1.77501678\n",
            "Epoch: [61] [ 200/ 200] D_loss: 0.89267975, G_loss: 1.73253787\n",
            "Epoch: 62\n",
            "Epoch: [62] [  50/ 200] D_loss: 0.88789707, G_loss: 1.77175176\n",
            "Epoch: [62] [ 100/ 200] D_loss: 0.76104188, G_loss: 1.64738846\n",
            "Epoch: [62] [ 150/ 200] D_loss: 0.72633928, G_loss: 2.30549026\n",
            "Epoch: [62] [ 200/ 200] D_loss: 0.73377723, G_loss: 2.09459281\n",
            "Epoch: 63\n",
            "Epoch: [63] [  50/ 200] D_loss: 0.80974364, G_loss: 1.25589442\n",
            "Epoch: [63] [ 100/ 200] D_loss: 0.73992801, G_loss: 1.69170356\n",
            "Epoch: [63] [ 150/ 200] D_loss: 0.80653334, G_loss: 2.08013892\n",
            "Epoch: [63] [ 200/ 200] D_loss: 0.74185050, G_loss: 1.80012047\n",
            "Epoch: 64\n",
            "Epoch: [64] [  50/ 200] D_loss: 0.73222995, G_loss: 2.02060127\n",
            "Epoch: [64] [ 100/ 200] D_loss: 0.80411172, G_loss: 2.09424496\n",
            "Epoch: [64] [ 150/ 200] D_loss: 0.72984517, G_loss: 1.80427206\n",
            "Epoch: [64] [ 200/ 200] D_loss: 0.75374377, G_loss: 1.79357100\n",
            "Epoch: 65\n",
            "Epoch: [65] [  50/ 200] D_loss: 0.79879832, G_loss: 2.18366623\n",
            "Epoch: [65] [ 100/ 200] D_loss: 0.77628553, G_loss: 2.58586884\n",
            "Epoch: [65] [ 150/ 200] D_loss: 0.76423067, G_loss: 1.88143563\n",
            "Epoch: [65] [ 200/ 200] D_loss: 0.76049656, G_loss: 2.02886796\n",
            "Epoch: 66\n",
            "Epoch: [66] [  50/ 200] D_loss: 0.76897216, G_loss: 1.74794722\n",
            "Epoch: [66] [ 100/ 200] D_loss: 0.81697416, G_loss: 1.92288578\n",
            "Epoch: [66] [ 150/ 200] D_loss: 0.72468472, G_loss: 1.94890809\n",
            "Epoch: [66] [ 200/ 200] D_loss: 0.77126127, G_loss: 2.04345393\n",
            "Epoch: 67\n",
            "Epoch: [67] [  50/ 200] D_loss: 0.74103546, G_loss: 1.74700427\n",
            "Epoch: [67] [ 100/ 200] D_loss: 0.73277122, G_loss: 1.92978013\n",
            "Epoch: [67] [ 150/ 200] D_loss: 0.73565519, G_loss: 1.79328215\n",
            "Epoch: [67] [ 200/ 200] D_loss: 0.74799758, G_loss: 2.11956954\n",
            "Epoch: 68\n",
            "Epoch: [68] [  50/ 200] D_loss: 0.73668122, G_loss: 1.68332648\n",
            "Epoch: [68] [ 100/ 200] D_loss: 0.77903348, G_loss: 2.33004451\n",
            "Epoch: [68] [ 150/ 200] D_loss: 0.90874255, G_loss: 2.11744499\n",
            "Epoch: [68] [ 200/ 200] D_loss: 0.73370153, G_loss: 2.15995002\n",
            "Epoch: 69\n",
            "Epoch: [69] [  50/ 200] D_loss: 0.73054957, G_loss: 1.61080575\n",
            "Epoch: [69] [ 100/ 200] D_loss: 0.72922760, G_loss: 2.05731463\n",
            "Epoch: [69] [ 150/ 200] D_loss: 0.76592326, G_loss: 2.54174972\n",
            "Epoch: [69] [ 200/ 200] D_loss: 0.78592658, G_loss: 2.53943443\n",
            "Epoch: 70\n",
            "\tGot eigenvectors (6559169, 6559169)\n",
            "\tEigenvalues are 4478.54 and 10846.43\n",
            "\tGot eigenvectors (6578753, 6578753)\n",
            "\tEigenvalues are -606.75 and -490.16\n",
            "Epoch: [70] [  50/ 200] D_loss: 0.71544921, G_loss: 1.81279969\n",
            "Epoch: [70] [ 100/ 200] D_loss: 0.79553533, G_loss: 2.03919125\n",
            "Epoch: [70] [ 150/ 200] D_loss: 1.04028261, G_loss: 2.00528550\n",
            "Epoch: [70] [ 200/ 200] D_loss: 0.74824655, G_loss: 1.97043991\n"
          ],
          "name": "stdout"
        },
        {
          "output_type": "display_data",
          "data": {
            "text/plain": [
              "<Figure size 72x720 with 0 Axes>"
            ]
          },
          "metadata": {
            "tags": []
          }
        },
        {
          "output_type": "display_data",
          "data": {
            "image/png": "[encoded data removed]",
            "text/plain": [
              "<Figure size 432x288 with 10 Axes>"
            ]
          },
          "metadata": {
            "tags": []
          }
        },
        {
          "output_type": "stream",
          "text": [
            "Epoch: 71\n",
            "Epoch: [71] [  50/ 200] D_loss: 0.72102594, G_loss: 1.86341703\n",
            "Epoch: [71] [ 100/ 200] D_loss: 0.73191607, G_loss: 1.74987292\n",
            "Epoch: [71] [ 150/ 200] D_loss: 0.73671198, G_loss: 1.96952665\n",
            "Epoch: [71] [ 200/ 200] D_loss: 0.87753093, G_loss: 2.93446016\n",
            "Epoch: 72\n",
            "Epoch: [72] [  50/ 200] D_loss: 0.79854178, G_loss: 1.68070984\n",
            "Epoch: [72] [ 100/ 200] D_loss: 0.76336694, G_loss: 1.88082743\n",
            "Epoch: [72] [ 150/ 200] D_loss: 0.73767650, G_loss: 1.92468631\n",
            "Epoch: [72] [ 200/ 200] D_loss: 0.74451041, G_loss: 2.05392957\n",
            "Epoch: 73\n",
            "Epoch: [73] [  50/ 200] D_loss: 0.71189368, G_loss: 2.07072353\n",
            "Epoch: [73] [ 100/ 200] D_loss: 0.71926671, G_loss: 1.89826953\n",
            "Epoch: [73] [ 150/ 200] D_loss: 0.79162562, G_loss: 2.43479204\n",
            "Epoch: [73] [ 200/ 200] D_loss: 0.73909009, G_loss: 1.85046029\n",
            "Epoch: 74\n",
            "Epoch: [74] [  50/ 200] D_loss: 0.84927166, G_loss: 1.38180184\n",
            "Epoch: [74] [ 100/ 200] D_loss: 0.72603369, G_loss: 2.03010511\n",
            "Epoch: [74] [ 150/ 200] D_loss: 0.76673025, G_loss: 2.32080364\n",
            "Epoch: [74] [ 200/ 200] D_loss: 0.83807802, G_loss: 1.41539752\n",
            "Epoch: 75\n",
            "Epoch: [75] [  50/ 200] D_loss: 0.73365366, G_loss: 1.62466800\n",
            "Epoch: [75] [ 100/ 200] D_loss: 0.74798155, G_loss: 1.73237252\n",
            "Epoch: [75] [ 150/ 200] D_loss: 0.77144277, G_loss: 2.19269180\n",
            "Epoch: [75] [ 200/ 200] D_loss: 0.77180964, G_loss: 1.81522369\n",
            "Epoch: 76\n",
            "Epoch: [76] [  50/ 200] D_loss: 0.76745296, G_loss: 1.39754534\n",
            "Epoch: [76] [ 100/ 200] D_loss: 0.79373801, G_loss: 2.44726038\n",
            "Epoch: [76] [ 150/ 200] D_loss: 0.71029055, G_loss: 2.00967216\n",
            "Epoch: [76] [ 200/ 200] D_loss: 0.72004902, G_loss: 2.16695046\n",
            "Epoch: 77\n",
            "Epoch: [77] [  50/ 200] D_loss: 0.79804897, G_loss: 1.56762195\n",
            "Epoch: [77] [ 100/ 200] D_loss: 0.74671280, G_loss: 2.22239757\n",
            "Epoch: [77] [ 150/ 200] D_loss: 0.76210743, G_loss: 1.80229294\n",
            "Epoch: [77] [ 200/ 200] D_loss: 0.71857095, G_loss: 1.93782878\n",
            "Epoch: 78\n",
            "Epoch: [78] [  50/ 200] D_loss: 0.84693807, G_loss: 2.52532434\n",
            "Epoch: [78] [ 100/ 200] D_loss: 0.75800842, G_loss: 2.18913054\n",
            "Epoch: [78] [ 150/ 200] D_loss: 0.73131418, G_loss: 1.96331918\n",
            "Epoch: [78] [ 200/ 200] D_loss: 0.73441994, G_loss: 2.37794065\n",
            "Epoch: 79\n",
            "Epoch: [79] [  50/ 200] D_loss: 0.78662539, G_loss: 1.24339199\n",
            "Epoch: [79] [ 100/ 200] D_loss: 0.72184396, G_loss: 1.90724409\n",
            "Epoch: [79] [ 150/ 200] D_loss: 0.75522572, G_loss: 2.12997007\n",
            "Epoch: [79] [ 200/ 200] D_loss: 0.74249780, G_loss: 1.49576175\n",
            "Epoch: 80\n",
            "\tGot eigenvectors (6559169, 6559169)\n",
            "\tEigenvalues are -6419.12 and 43287.32\n",
            "\tGot eigenvectors (6578753, 6578753)\n",
            "\tEigenvalues are -447.42 and -424.95\n",
            "Epoch: [80] [  50/ 200] D_loss: 0.76809311, G_loss: 1.86033630\n",
            "Epoch: [80] [ 100/ 200] D_loss: 0.70425093, G_loss: 2.12323380\n",
            "Epoch: [80] [ 150/ 200] D_loss: 0.72922075, G_loss: 2.47742486\n",
            "Epoch: [80] [ 200/ 200] D_loss: 0.71979153, G_loss: 2.24814510\n"
          ],
          "name": "stdout"
        },
        {
          "output_type": "display_data",
          "data": {
            "text/plain": [
              "<Figure size 72x720 with 0 Axes>"
            ]
          },
          "metadata": {
            "tags": []
          }
        },
        {
          "output_type": "display_data",
          "data": {
            "image/png": "[encoded data removed]",
            "text/plain": [
              "<Figure size 432x288 with 10 Axes>"
            ]
          },
          "metadata": {
            "tags": []
          }
        },
        {
          "output_type": "stream",
          "text": [
            "Epoch: 81\n",
            "Epoch: [81] [  50/ 200] D_loss: 0.74690104, G_loss: 1.94677532\n",
            "Epoch: [81] [ 100/ 200] D_loss: 0.71782649, G_loss: 2.07073903\n",
            "Epoch: [81] [ 150/ 200] D_loss: 0.71881437, G_loss: 1.63340056\n",
            "Epoch: [81] [ 200/ 200] D_loss: 0.73471594, G_loss: 1.75455117\n",
            "Epoch: 82\n",
            "Epoch: [82] [  50/ 200] D_loss: 0.71549654, G_loss: 2.05027556\n",
            "Epoch: [82] [ 100/ 200] D_loss: 0.73124427, G_loss: 1.69549155\n",
            "Epoch: [82] [ 150/ 200] D_loss: 0.70888555, G_loss: 2.20890594\n",
            "Epoch: [82] [ 200/ 200] D_loss: 0.78998941, G_loss: 1.85330677\n",
            "Epoch: 83\n",
            "Epoch: [83] [  50/ 200] D_loss: 0.71695441, G_loss: 2.27923131\n",
            "Epoch: [83] [ 100/ 200] D_loss: 0.96455997, G_loss: 1.93638432\n",
            "Epoch: [83] [ 150/ 200] D_loss: 0.74946213, G_loss: 1.83036113\n",
            "Epoch: [83] [ 200/ 200] D_loss: 0.71664333, G_loss: 2.04701257\n",
            "Epoch: 84\n",
            "Epoch: [84] [  50/ 200] D_loss: 0.70393997, G_loss: 2.16971517\n",
            "Epoch: [84] [ 100/ 200] D_loss: 0.73370302, G_loss: 2.11377525\n",
            "Epoch: [84] [ 150/ 200] D_loss: 0.77891576, G_loss: 1.92815125\n",
            "Epoch: [84] [ 200/ 200] D_loss: 0.72803563, G_loss: 1.62442505\n",
            "Epoch: 85\n",
            "Epoch: [85] [  50/ 200] D_loss: 0.76108426, G_loss: 1.58480299\n",
            "Epoch: [85] [ 100/ 200] D_loss: 0.71165764, G_loss: 1.96737754\n",
            "Epoch: [85] [ 150/ 200] D_loss: 1.03628063, G_loss: 3.17642736\n",
            "Epoch: [85] [ 200/ 200] D_loss: 0.75112951, G_loss: 2.07900882\n",
            "Epoch: 86\n",
            "Epoch: [86] [  50/ 200] D_loss: 0.75700480, G_loss: 1.66062510\n",
            "Epoch: [86] [ 100/ 200] D_loss: 0.75560254, G_loss: 1.94272792\n",
            "Epoch: [86] [ 150/ 200] D_loss: 0.71000272, G_loss: 1.94148791\n",
            "Epoch: [86] [ 200/ 200] D_loss: 0.75661826, G_loss: 1.60887253\n",
            "Epoch: 87\n",
            "Epoch: [87] [  50/ 200] D_loss: 1.18191886, G_loss: 2.23233962\n",
            "Epoch: [87] [ 100/ 200] D_loss: 0.72762275, G_loss: 2.14121413\n",
            "Epoch: [87] [ 150/ 200] D_loss: 0.73427731, G_loss: 2.39386368\n",
            "Epoch: [87] [ 200/ 200] D_loss: 0.70323461, G_loss: 2.13647985\n",
            "Epoch: 88\n",
            "Epoch: [88] [  50/ 200] D_loss: 0.74503076, G_loss: 1.69615614\n",
            "Epoch: [88] [ 100/ 200] D_loss: 0.74101090, G_loss: 2.10255337\n",
            "Epoch: [88] [ 150/ 200] D_loss: 0.95894641, G_loss: 2.79050350\n",
            "Epoch: [88] [ 200/ 200] D_loss: 0.72034895, G_loss: 1.91972208\n",
            "Epoch: 89\n",
            "Epoch: [89] [  50/ 200] D_loss: 0.72049332, G_loss: 2.19822240\n",
            "Epoch: [89] [ 100/ 200] D_loss: 0.72214305, G_loss: 2.40910029\n",
            "Epoch: [89] [ 150/ 200] D_loss: 0.80001420, G_loss: 2.10813594\n",
            "Epoch: [89] [ 200/ 200] D_loss: 0.74249625, G_loss: 2.11332250\n",
            "Epoch: 90\n",
            "\tGot eigenvectors (6559169, 6559169)\n",
            "\tEigenvalues are 2026.67 and 18443.37\n",
            "\tGot eigenvectors (6578753, 6578753)\n",
            "\tEigenvalues are -608.03 and 592.71\n",
            "Epoch: [90] [  50/ 200] D_loss: 0.68906212, G_loss: 2.03962946\n",
            "Epoch: [90] [ 100/ 200] D_loss: 0.75288332, G_loss: 1.59974539\n",
            "Epoch: [90] [ 150/ 200] D_loss: 0.70544219, G_loss: 1.83306849\n",
            "Epoch: [90] [ 200/ 200] D_loss: 0.70457077, G_loss: 1.77832603\n"
          ],
          "name": "stdout"
        },
        {
          "output_type": "display_data",
          "data": {
            "text/plain": [
              "<Figure size 72x720 with 0 Axes>"
            ]
          },
          "metadata": {
            "tags": []
          }
        },
        {
          "output_type": "display_data",
          "data": {
            "image/png": "[encoded data removed]",
            "text/plain": [
              "<Figure size 432x288 with 10 Axes>"
            ]
          },
          "metadata": {
            "tags": []
          }
        },
        {
          "output_type": "stream",
          "text": [
            "Epoch: 91\n",
            "Epoch: [91] [  50/ 200] D_loss: 0.74206817, G_loss: 2.45269203\n",
            "Epoch: [91] [ 100/ 200] D_loss: 0.70293522, G_loss: 2.21986318\n",
            "Epoch: [91] [ 150/ 200] D_loss: 0.74101675, G_loss: 1.72516406\n",
            "Epoch: [91] [ 200/ 200] D_loss: 0.71676815, G_loss: 2.33732748\n",
            "Epoch: 92\n",
            "Epoch: [92] [  50/ 200] D_loss: 0.72939485, G_loss: 2.28130126\n",
            "Epoch: [92] [ 100/ 200] D_loss: 0.71551836, G_loss: 1.84051931\n",
            "Epoch: [92] [ 150/ 200] D_loss: 0.70169955, G_loss: 1.72155356\n",
            "Epoch: [92] [ 200/ 200] D_loss: 0.77995437, G_loss: 1.59137273\n",
            "Epoch: 93\n",
            "Epoch: [93] [  50/ 200] D_loss: 0.72918022, G_loss: 2.27033377\n",
            "Epoch: [93] [ 100/ 200] D_loss: 0.72323984, G_loss: 2.24848223\n",
            "Epoch: [93] [ 150/ 200] D_loss: 0.70057237, G_loss: 2.09071350\n",
            "Epoch: [93] [ 200/ 200] D_loss: 0.74919796, G_loss: 2.36408615\n",
            "Epoch: 94\n",
            "Epoch: [94] [  50/ 200] D_loss: 0.79071093, G_loss: 1.90993023\n",
            "Epoch: [94] [ 100/ 200] D_loss: 0.71691394, G_loss: 1.83723819\n",
            "Epoch: [94] [ 150/ 200] D_loss: 0.71855545, G_loss: 1.75552762\n",
            "Epoch: [94] [ 200/ 200] D_loss: 0.80673087, G_loss: 2.30139136\n",
            "Epoch: 95\n",
            "Epoch: [95] [  50/ 200] D_loss: 0.72434711, G_loss: 1.55787516\n",
            "Epoch: [95] [ 100/ 200] D_loss: 0.72028631, G_loss: 2.15667415\n",
            "Epoch: [95] [ 150/ 200] D_loss: 0.74965310, G_loss: 1.93918383\n",
            "Epoch: [95] [ 200/ 200] D_loss: 0.74490643, G_loss: 2.16553354\n",
            "Epoch: 96\n",
            "Epoch: [96] [  50/ 200] D_loss: 0.74928117, G_loss: 2.57352424\n",
            "Epoch: [96] [ 100/ 200] D_loss: 0.70270604, G_loss: 2.04012871\n",
            "Epoch: [96] [ 150/ 200] D_loss: 0.79644346, G_loss: 1.86784148\n",
            "Epoch: [96] [ 200/ 200] D_loss: 0.69157183, G_loss: 2.16173387\n",
            "Epoch: 97\n",
            "Epoch: [97] [  50/ 200] D_loss: 0.71964860, G_loss: 2.12498903\n",
            "Epoch: [97] [ 100/ 200] D_loss: 0.71111059, G_loss: 1.91914356\n",
            "Epoch: [97] [ 150/ 200] D_loss: 0.90009046, G_loss: 2.07007933\n",
            "Epoch: [97] [ 200/ 200] D_loss: 0.68917882, G_loss: 2.23334599\n",
            "Epoch: 98\n",
            "Epoch: [98] [  50/ 200] D_loss: 0.75961816, G_loss: 1.72046959\n",
            "Epoch: [98] [ 100/ 200] D_loss: 0.72023571, G_loss: 2.14942861\n",
            "Epoch: [98] [ 150/ 200] D_loss: 0.70300543, G_loss: 1.78707075\n",
            "Epoch: [98] [ 200/ 200] D_loss: 0.72218657, G_loss: 2.18808722\n",
            "Epoch: 99\n",
            "Epoch: [99] [  50/ 200] D_loss: 0.75877213, G_loss: 2.21803117\n",
            "Epoch: [99] [ 100/ 200] D_loss: 0.72381842, G_loss: 2.33005571\n",
            "Epoch: [99] [ 150/ 200] D_loss: 0.72023571, G_loss: 2.12121558\n",
            "Epoch: [99] [ 200/ 200] D_loss: 0.71666300, G_loss: 2.22879362\n",
            "Epoch: 100\n",
            "\tGot eigenvectors (6559169, 6559169)\n",
            "\tEigenvalues are 1365.36 and 17304.03\n",
            "\tGot eigenvectors (6578753, 6578753)\n",
            "\tEigenvalues are -747.49 and -599.44\n",
            "Epoch: [100] [  50/ 200] D_loss: 0.80441731, G_loss: 1.68733668\n",
            "Epoch: [100] [ 100/ 200] D_loss: 0.69550431, G_loss: 1.94093943\n",
            "Epoch: [100] [ 150/ 200] D_loss: 0.72844511, G_loss: 2.09654307\n",
            "Epoch: [100] [ 200/ 200] D_loss: 0.70258075, G_loss: 2.00850844\n"
          ],
          "name": "stdout"
        },
        {
          "output_type": "display_data",
          "data": {
            "text/plain": [
              "<Figure size 72x720 with 0 Axes>"
            ]
          },
          "metadata": {
            "tags": []
          }
        },
        {
          "output_type": "display_data",
          "data": {
            "image/png": "[encoded data removed]",
            "text/plain": [
              "<Figure size 432x288 with 10 Axes>"
            ]
          },
          "metadata": {
            "tags": [],
            "needs_background": "light"
          }
        },
        {
          "output_type": "stream",
          "text": [
            "Training finished!\n"
          ],
          "name": "stdout"
        }
      ]
    }
  ]
}